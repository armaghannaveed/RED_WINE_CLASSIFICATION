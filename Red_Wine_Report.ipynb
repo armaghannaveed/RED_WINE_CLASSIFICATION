{
 "cells": [
  {
   "cell_type": "markdown",
   "metadata": {},
   "source": [
    "**INTRODUCTION:**\n",
    "\n",
    "The Wine Quality Dataset contains information about White Wine and Red Wine variants of Vinho Verde, Portugal. Portugal is a top ten wine exporting country which holds 3% of the market share (FAOSTAT, 2019). The Portuguese wine market is dominated by still wines, specifically red wine. (Romo-Muñoz, Monje-Sanhueza, Garrido-Henríquez, & Gil, 2020) Therefore, for our project we will be looking at the quality of red wine and the factors that create balance. \n",
    "\n",
    "A higher-quality wine has all of its components balanced, whereas a lower-quality wine has an element that stand out more than the rest. The question we are trying to answer is ****“Can we use the physicochemical properties of red wine to objectively predict whether the quality of a future unknown wine will be bad, satisfactory, or good?”****  We will be using a dataset collected from 1599 samples of the red variant of Vinho Verde. The dataset contains 12 elements: fixed quality, volatile acidity, citric acid, residual sugar, chlorides, free sulfur dioxide, total sulfur dioxide, pH, sulfates, alcohol, and quality. Our output variable is “quality” which the classification model would try to accurately predict. The quality score is measured on a scale from 0 (Bad) to 10 (Good). \n",
    "\n",
    "As seen, there is no data regarding the wine brand, grape types, fertilizers/insectides used or retail price due to policy and logistical issues. The original number of observations in each class are imbalanced with much more satisfactory wines than good or bad ones which is fairly understandable. The original research used a regression model to preserve the order of the wine scores and derive distinct accuracy results. \n",
    "\n",
    "Our goal is to create an efficient model capable of generating accurate predictions for red wine grown in Vinho Verde which could then be used to improve production efficiency and certification criterias. (Rodrigues et al., 2011)"
   ]
  },
  {
   "cell_type": "markdown",
   "metadata": {},
   "source": [
    "**REFERENCES:**\n",
    "Food and Agriculture Organization of the United Nations (FAOSTAT). (2019, October 9). Food and Agriculture Organization Agriculture Trade Domain Statistics. Retrieved from http://faostat.fao.org/site/535/DesktopDefault.aspx?PageID=535\n",
    "\n",
    "Rodrigo Alejandro Romo-Muñoz, Rodrigo Monje-Sanhueza, Héctor Garrido-Henríquez, José M Gil. (2020) Key market values for bottled wine in an emerging market: product attributes or business strategy?. Applied Economics 52:34, pages 3669-3679.\n",
    "\n",
    "Rodrigues, S., Otero, M., Alves, A., Coimbra, J., Coimbra, M., Pereira, E., & Duarte, A. (2011, January 18). Elemental analysis for categorization of wines and authentication of their certified brand of origin. Retrieved April 09, 2021, from https://www.sciencedirect.com/science/article/pii/S0889157511000184?casa_token=QhrKN4X-rToAAAAA%3Ann9L8HocNfoGCjcMHTcvbScsF4ZZ2VsT-xTyDHfv5fa--TZ7UMjhgxsANsfKHAwSApCvuTLe0g"
   ]
  }
 ],
 "metadata": {
  "kernelspec": {
   "display_name": "R",
   "language": "R",
   "name": "ir"
  },
  "language_info": {
   "codemirror_mode": "r",
   "file_extension": ".r",
   "mimetype": "text/x-r-source",
   "name": "R",
   "pygments_lexer": "r",
   "version": "4.0.0"
  }
 },
 "nbformat": 4,
 "nbformat_minor": 4
}
