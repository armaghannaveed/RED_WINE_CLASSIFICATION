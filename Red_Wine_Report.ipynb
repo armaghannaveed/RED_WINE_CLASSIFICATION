{
 "cells": [
  {
   "cell_type": "markdown",
   "metadata": {},
   "source": [
    "# Red Wine Classification Report\n",
    "### By DSCI 100, Group 39"
   ]
  },
  {
   "cell_type": "markdown",
   "metadata": {},
   "source": [
    "## Introduction\n",
    "\n",
    "The Wine Quality Dataset contains information about White Wine and Red Wine variants of Vinho Verde, Portugal. Portugal is a top ten wine exporting country which holds 3% of the market share (FAOSTAT, 2019). The Portuguese wine market is dominated by still wines, specifically red wine. (Romo-Muñoz, Monje-Sanhueza, Garrido-Henríquez, & Gil, 2020) Therefore, for our project we will be looking at the quality of red wine and the factors that create balance. \n",
    "\n",
    "A higher-quality wine has all of its components balanced, whereas a lower-quality wine has an element that stand out more than the rest. The question we are trying to answer is ****“Can we use the physicochemical properties of red wine to objectively predict whether the quality of a future unknown wine will be poor, satisfactory, or excellent?”****  We will be using a dataset collected from 1599 samples of the red variant of Vinho Verde. The dataset contains 12 elements: fixed quality, volatile acidity, citric acid, residual sugar, chlorides, free sulfur dioxide, total sulfur dioxide, pH, sulfates, alcohol, and quality. Our output variable is “quality” which the classification model would try to accurately predict. The quality score is measured on a scale from 1 (bad) to 10 (good). \n",
    "\n",
    "As seen, there is no data regarding the wine brand, grape types, fertilizers/insectides used or retail price due to policy and logistical issues. The original number of observations in each class are imbalanced with much more satisfactory wines than good or bad ones which is fairly understandable. The original research used a regression model to preserve the order of the wine scores and derive distinct accuracy results. \n",
    "\n",
    "Our goal is to create an efficient model capable of generating accurate predictions for red wine grown in Vinho Verde which could then be used to improve production efficiency and certification criterias. (Rodrigues et al., 2011)"
   ]
  },
  {
   "cell_type": "markdown",
   "metadata": {},
   "source": [
    "## Preliminary Exploratory Data Analysis"
   ]
  },
  {
   "cell_type": "code",
   "execution_count": 101,
   "metadata": {},
   "outputs": [],
   "source": [
    "library(tidyverse)\n",
    "library(repr)\n",
    "library(tidymodels)\n",
    "options(repr.matrix.max.rows = 6)"
   ]
  },
  {
   "cell_type": "markdown",
   "metadata": {},
   "source": [
    "### 1. Read the red_wine dataset in JupyterLabs"
   ]
  },
  {
   "cell_type": "code",
   "execution_count": 102,
   "metadata": {},
   "outputs": [
    {
     "data": {
      "text/html": [
       "<table>\n",
       "<caption>A data.frame: 1599 × 12</caption>\n",
       "<thead>\n",
       "\t<tr><th scope=col>fixed.acidity</th><th scope=col>volatile.acidity</th><th scope=col>citric.acid</th><th scope=col>residual.sugar</th><th scope=col>chlorides</th><th scope=col>free.sulfur.dioxide</th><th scope=col>total.sulfur.dioxide</th><th scope=col>density</th><th scope=col>pH</th><th scope=col>sulphates</th><th scope=col>alcohol</th><th scope=col>quality</th></tr>\n",
       "\t<tr><th scope=col>&lt;chr&gt;</th><th scope=col>&lt;chr&gt;</th><th scope=col>&lt;chr&gt;</th><th scope=col>&lt;chr&gt;</th><th scope=col>&lt;chr&gt;</th><th scope=col>&lt;chr&gt;</th><th scope=col>&lt;chr&gt;</th><th scope=col>&lt;chr&gt;</th><th scope=col>&lt;chr&gt;</th><th scope=col>&lt;chr&gt;</th><th scope=col>&lt;chr&gt;</th><th scope=col>&lt;int&gt;</th></tr>\n",
       "</thead>\n",
       "<tbody>\n",
       "\t<tr><td>7.4</td><td>0.7 </td><td>0   </td><td>1.9</td><td>0.076</td><td>11</td><td>34</td><td>0.9978</td><td>3.51</td><td>0.56</td><td>9.4</td><td>5</td></tr>\n",
       "\t<tr><td>7.8</td><td>0.88</td><td>0   </td><td>2.6</td><td>0.098</td><td>25</td><td>67</td><td>0.9968</td><td>3.2 </td><td>0.68</td><td>9.8</td><td>5</td></tr>\n",
       "\t<tr><td>7.8</td><td>0.76</td><td>0.04</td><td>2.3</td><td>0.092</td><td>15</td><td>54</td><td>0.997 </td><td>3.26</td><td>0.65</td><td>9.8</td><td>5</td></tr>\n",
       "\t<tr><td>⋮</td><td>⋮</td><td>⋮</td><td>⋮</td><td>⋮</td><td>⋮</td><td>⋮</td><td>⋮</td><td>⋮</td><td>⋮</td><td>⋮</td><td>⋮</td></tr>\n",
       "\t<tr><td>6.3</td><td>0.51 </td><td>0.13</td><td>2.3</td><td>0.076</td><td>29</td><td>40</td><td>0.99574</td><td>3.42</td><td>0.75</td><td>11  </td><td>6</td></tr>\n",
       "\t<tr><td>5.9</td><td>0.645</td><td>0.12</td><td>2  </td><td>0.075</td><td>32</td><td>44</td><td>0.99547</td><td>3.57</td><td>0.71</td><td>10.2</td><td>5</td></tr>\n",
       "\t<tr><td>6  </td><td>0.31 </td><td>0.47</td><td>3.6</td><td>0.067</td><td>18</td><td>42</td><td>0.99549</td><td>3.39</td><td>0.66</td><td>11  </td><td>6</td></tr>\n",
       "</tbody>\n",
       "</table>\n"
      ],
      "text/latex": [
       "A data.frame: 1599 × 12\n",
       "\\begin{tabular}{llllllllllll}\n",
       " fixed.acidity & volatile.acidity & citric.acid & residual.sugar & chlorides & free.sulfur.dioxide & total.sulfur.dioxide & density & pH & sulphates & alcohol & quality\\\\\n",
       " <chr> & <chr> & <chr> & <chr> & <chr> & <chr> & <chr> & <chr> & <chr> & <chr> & <chr> & <int>\\\\\n",
       "\\hline\n",
       "\t 7.4 & 0.7  & 0    & 1.9 & 0.076 & 11 & 34 & 0.9978 & 3.51 & 0.56 & 9.4 & 5\\\\\n",
       "\t 7.8 & 0.88 & 0    & 2.6 & 0.098 & 25 & 67 & 0.9968 & 3.2  & 0.68 & 9.8 & 5\\\\\n",
       "\t 7.8 & 0.76 & 0.04 & 2.3 & 0.092 & 15 & 54 & 0.997  & 3.26 & 0.65 & 9.8 & 5\\\\\n",
       "\t ⋮ & ⋮ & ⋮ & ⋮ & ⋮ & ⋮ & ⋮ & ⋮ & ⋮ & ⋮ & ⋮ & ⋮\\\\\n",
       "\t 6.3 & 0.51  & 0.13 & 2.3 & 0.076 & 29 & 40 & 0.99574 & 3.42 & 0.75 & 11   & 6\\\\\n",
       "\t 5.9 & 0.645 & 0.12 & 2   & 0.075 & 32 & 44 & 0.99547 & 3.57 & 0.71 & 10.2 & 5\\\\\n",
       "\t 6   & 0.31  & 0.47 & 3.6 & 0.067 & 18 & 42 & 0.99549 & 3.39 & 0.66 & 11   & 6\\\\\n",
       "\\end{tabular}\n"
      ],
      "text/markdown": [
       "\n",
       "A data.frame: 1599 × 12\n",
       "\n",
       "| fixed.acidity &lt;chr&gt; | volatile.acidity &lt;chr&gt; | citric.acid &lt;chr&gt; | residual.sugar &lt;chr&gt; | chlorides &lt;chr&gt; | free.sulfur.dioxide &lt;chr&gt; | total.sulfur.dioxide &lt;chr&gt; | density &lt;chr&gt; | pH &lt;chr&gt; | sulphates &lt;chr&gt; | alcohol &lt;chr&gt; | quality &lt;int&gt; |\n",
       "|---|---|---|---|---|---|---|---|---|---|---|---|\n",
       "| 7.4 | 0.7  | 0    | 1.9 | 0.076 | 11 | 34 | 0.9978 | 3.51 | 0.56 | 9.4 | 5 |\n",
       "| 7.8 | 0.88 | 0    | 2.6 | 0.098 | 25 | 67 | 0.9968 | 3.2  | 0.68 | 9.8 | 5 |\n",
       "| 7.8 | 0.76 | 0.04 | 2.3 | 0.092 | 15 | 54 | 0.997  | 3.26 | 0.65 | 9.8 | 5 |\n",
       "| ⋮ | ⋮ | ⋮ | ⋮ | ⋮ | ⋮ | ⋮ | ⋮ | ⋮ | ⋮ | ⋮ | ⋮ |\n",
       "| 6.3 | 0.51  | 0.13 | 2.3 | 0.076 | 29 | 40 | 0.99574 | 3.42 | 0.75 | 11   | 6 |\n",
       "| 5.9 | 0.645 | 0.12 | 2   | 0.075 | 32 | 44 | 0.99547 | 3.57 | 0.71 | 10.2 | 5 |\n",
       "| 6   | 0.31  | 0.47 | 3.6 | 0.067 | 18 | 42 | 0.99549 | 3.39 | 0.66 | 11   | 6 |\n",
       "\n"
      ],
      "text/plain": [
       "     fixed.acidity volatile.acidity citric.acid residual.sugar chlorides\n",
       "1    7.4           0.7              0           1.9            0.076    \n",
       "2    7.8           0.88             0           2.6            0.098    \n",
       "3    7.8           0.76             0.04        2.3            0.092    \n",
       "⋮    ⋮             ⋮                ⋮           ⋮              ⋮        \n",
       "1597 6.3           0.51             0.13        2.3            0.076    \n",
       "1598 5.9           0.645            0.12        2              0.075    \n",
       "1599 6             0.31             0.47        3.6            0.067    \n",
       "     free.sulfur.dioxide total.sulfur.dioxide density pH   sulphates alcohol\n",
       "1    11                  34                   0.9978  3.51 0.56      9.4    \n",
       "2    25                  67                   0.9968  3.2  0.68      9.8    \n",
       "3    15                  54                   0.997   3.26 0.65      9.8    \n",
       "⋮    ⋮                   ⋮                    ⋮       ⋮    ⋮         ⋮      \n",
       "1597 29                  40                   0.99574 3.42 0.75      11     \n",
       "1598 32                  44                   0.99547 3.57 0.71      10.2   \n",
       "1599 18                  42                   0.99549 3.39 0.66      11     \n",
       "     quality\n",
       "1    5      \n",
       "2    5      \n",
       "3    5      \n",
       "⋮    ⋮      \n",
       "1597 6      \n",
       "1598 5      \n",
       "1599 6      "
      ]
     },
     "metadata": {},
     "output_type": "display_data"
    }
   ],
   "source": [
    "red_wine <- read.csv2(\"http://archive.ics.uci.edu/ml/machine-learning-databases/wine-quality/winequality-red.csv\")\n",
    "red_wine"
   ]
  },
  {
   "cell_type": "markdown",
   "metadata": {},
   "source": [
    "### 2. Transform quality from integers into categorical variables\n",
    "Originally, quality refered to a range of values from 01-10. We used ****mutate()**** to give each integer a character classification.\n",
    "\n",
    "The red_wine dataset doesn't contain any wines that are ranked 1, 2, 9, & 10. Thus, we created categorical names for integers 3 - 8. \n",
    "\n",
    "\n",
    "****A red wine ranked as 3 - 4 is a poor rating; 5 - 6 is a satisfactory rating; and 7 - 8 is an excellent rating.****"
   ]
  },
  {
   "cell_type": "code",
   "execution_count": 103,
   "metadata": {},
   "outputs": [
    {
     "data": {
      "text/html": [
       "<table>\n",
       "<caption>A data.frame: 1599 × 12</caption>\n",
       "<thead>\n",
       "\t<tr><th scope=col>fixed.acidity</th><th scope=col>volatile.acidity</th><th scope=col>citric.acid</th><th scope=col>residual.sugar</th><th scope=col>chlorides</th><th scope=col>free.sulfur.dioxide</th><th scope=col>total.sulfur.dioxide</th><th scope=col>density</th><th scope=col>pH</th><th scope=col>sulphates</th><th scope=col>alcohol</th><th scope=col>quality</th></tr>\n",
       "\t<tr><th scope=col>&lt;chr&gt;</th><th scope=col>&lt;chr&gt;</th><th scope=col>&lt;chr&gt;</th><th scope=col>&lt;chr&gt;</th><th scope=col>&lt;chr&gt;</th><th scope=col>&lt;chr&gt;</th><th scope=col>&lt;chr&gt;</th><th scope=col>&lt;chr&gt;</th><th scope=col>&lt;chr&gt;</th><th scope=col>&lt;chr&gt;</th><th scope=col>&lt;chr&gt;</th><th scope=col>&lt;chr&gt;</th></tr>\n",
       "</thead>\n",
       "<tbody>\n",
       "\t<tr><td>7.4</td><td>0.7 </td><td>0   </td><td>1.9</td><td>0.076</td><td>11</td><td>34</td><td>0.9978</td><td>3.51</td><td>0.56</td><td>9.4</td><td>Satisfactory</td></tr>\n",
       "\t<tr><td>7.8</td><td>0.88</td><td>0   </td><td>2.6</td><td>0.098</td><td>25</td><td>67</td><td>0.9968</td><td>3.2 </td><td>0.68</td><td>9.8</td><td>Satisfactory</td></tr>\n",
       "\t<tr><td>7.8</td><td>0.76</td><td>0.04</td><td>2.3</td><td>0.092</td><td>15</td><td>54</td><td>0.997 </td><td>3.26</td><td>0.65</td><td>9.8</td><td>Satisfactory</td></tr>\n",
       "\t<tr><td>⋮</td><td>⋮</td><td>⋮</td><td>⋮</td><td>⋮</td><td>⋮</td><td>⋮</td><td>⋮</td><td>⋮</td><td>⋮</td><td>⋮</td><td>⋮</td></tr>\n",
       "\t<tr><td>6.3</td><td>0.51 </td><td>0.13</td><td>2.3</td><td>0.076</td><td>29</td><td>40</td><td>0.99574</td><td>3.42</td><td>0.75</td><td>11  </td><td>Satisfactory</td></tr>\n",
       "\t<tr><td>5.9</td><td>0.645</td><td>0.12</td><td>2  </td><td>0.075</td><td>32</td><td>44</td><td>0.99547</td><td>3.57</td><td>0.71</td><td>10.2</td><td>Satisfactory</td></tr>\n",
       "\t<tr><td>6  </td><td>0.31 </td><td>0.47</td><td>3.6</td><td>0.067</td><td>18</td><td>42</td><td>0.99549</td><td>3.39</td><td>0.66</td><td>11  </td><td>Satisfactory</td></tr>\n",
       "</tbody>\n",
       "</table>\n"
      ],
      "text/latex": [
       "A data.frame: 1599 × 12\n",
       "\\begin{tabular}{llllllllllll}\n",
       " fixed.acidity & volatile.acidity & citric.acid & residual.sugar & chlorides & free.sulfur.dioxide & total.sulfur.dioxide & density & pH & sulphates & alcohol & quality\\\\\n",
       " <chr> & <chr> & <chr> & <chr> & <chr> & <chr> & <chr> & <chr> & <chr> & <chr> & <chr> & <chr>\\\\\n",
       "\\hline\n",
       "\t 7.4 & 0.7  & 0    & 1.9 & 0.076 & 11 & 34 & 0.9978 & 3.51 & 0.56 & 9.4 & Satisfactory\\\\\n",
       "\t 7.8 & 0.88 & 0    & 2.6 & 0.098 & 25 & 67 & 0.9968 & 3.2  & 0.68 & 9.8 & Satisfactory\\\\\n",
       "\t 7.8 & 0.76 & 0.04 & 2.3 & 0.092 & 15 & 54 & 0.997  & 3.26 & 0.65 & 9.8 & Satisfactory\\\\\n",
       "\t ⋮ & ⋮ & ⋮ & ⋮ & ⋮ & ⋮ & ⋮ & ⋮ & ⋮ & ⋮ & ⋮ & ⋮\\\\\n",
       "\t 6.3 & 0.51  & 0.13 & 2.3 & 0.076 & 29 & 40 & 0.99574 & 3.42 & 0.75 & 11   & Satisfactory\\\\\n",
       "\t 5.9 & 0.645 & 0.12 & 2   & 0.075 & 32 & 44 & 0.99547 & 3.57 & 0.71 & 10.2 & Satisfactory\\\\\n",
       "\t 6   & 0.31  & 0.47 & 3.6 & 0.067 & 18 & 42 & 0.99549 & 3.39 & 0.66 & 11   & Satisfactory\\\\\n",
       "\\end{tabular}\n"
      ],
      "text/markdown": [
       "\n",
       "A data.frame: 1599 × 12\n",
       "\n",
       "| fixed.acidity &lt;chr&gt; | volatile.acidity &lt;chr&gt; | citric.acid &lt;chr&gt; | residual.sugar &lt;chr&gt; | chlorides &lt;chr&gt; | free.sulfur.dioxide &lt;chr&gt; | total.sulfur.dioxide &lt;chr&gt; | density &lt;chr&gt; | pH &lt;chr&gt; | sulphates &lt;chr&gt; | alcohol &lt;chr&gt; | quality &lt;chr&gt; |\n",
       "|---|---|---|---|---|---|---|---|---|---|---|---|\n",
       "| 7.4 | 0.7  | 0    | 1.9 | 0.076 | 11 | 34 | 0.9978 | 3.51 | 0.56 | 9.4 | Satisfactory |\n",
       "| 7.8 | 0.88 | 0    | 2.6 | 0.098 | 25 | 67 | 0.9968 | 3.2  | 0.68 | 9.8 | Satisfactory |\n",
       "| 7.8 | 0.76 | 0.04 | 2.3 | 0.092 | 15 | 54 | 0.997  | 3.26 | 0.65 | 9.8 | Satisfactory |\n",
       "| ⋮ | ⋮ | ⋮ | ⋮ | ⋮ | ⋮ | ⋮ | ⋮ | ⋮ | ⋮ | ⋮ | ⋮ |\n",
       "| 6.3 | 0.51  | 0.13 | 2.3 | 0.076 | 29 | 40 | 0.99574 | 3.42 | 0.75 | 11   | Satisfactory |\n",
       "| 5.9 | 0.645 | 0.12 | 2   | 0.075 | 32 | 44 | 0.99547 | 3.57 | 0.71 | 10.2 | Satisfactory |\n",
       "| 6   | 0.31  | 0.47 | 3.6 | 0.067 | 18 | 42 | 0.99549 | 3.39 | 0.66 | 11   | Satisfactory |\n",
       "\n"
      ],
      "text/plain": [
       "     fixed.acidity volatile.acidity citric.acid residual.sugar chlorides\n",
       "1    7.4           0.7              0           1.9            0.076    \n",
       "2    7.8           0.88             0           2.6            0.098    \n",
       "3    7.8           0.76             0.04        2.3            0.092    \n",
       "⋮    ⋮             ⋮                ⋮           ⋮              ⋮        \n",
       "1597 6.3           0.51             0.13        2.3            0.076    \n",
       "1598 5.9           0.645            0.12        2              0.075    \n",
       "1599 6             0.31             0.47        3.6            0.067    \n",
       "     free.sulfur.dioxide total.sulfur.dioxide density pH   sulphates alcohol\n",
       "1    11                  34                   0.9978  3.51 0.56      9.4    \n",
       "2    25                  67                   0.9968  3.2  0.68      9.8    \n",
       "3    15                  54                   0.997   3.26 0.65      9.8    \n",
       "⋮    ⋮                   ⋮                    ⋮       ⋮    ⋮         ⋮      \n",
       "1597 29                  40                   0.99574 3.42 0.75      11     \n",
       "1598 32                  44                   0.99547 3.57 0.71      10.2   \n",
       "1599 18                  42                   0.99549 3.39 0.66      11     \n",
       "     quality     \n",
       "1    Satisfactory\n",
       "2    Satisfactory\n",
       "3    Satisfactory\n",
       "⋮    ⋮           \n",
       "1597 Satisfactory\n",
       "1598 Satisfactory\n",
       "1599 Satisfactory"
      ]
     },
     "metadata": {},
     "output_type": "display_data"
    }
   ],
   "source": [
    "red_wine <- red_wine %>%\n",
    "    mutate(quality = case_when(quality == \"8\" ~ \"Excellent\",\n",
    "                              quality == \"7\" ~ \"Excellent\",\n",
    "                              quality == \"6\" ~ \"Satisfactory\",\n",
    "                              quality == \"5\" ~ \"Satisfactory\",\n",
    "                              quality == \"4\" ~ \"Poor\",\n",
    "                              quality == \"3\" ~ \"Poor\"))\n",
    "red_wine"
   ]
  },
  {
   "cell_type": "markdown",
   "metadata": {},
   "source": [
    "### 3. Convert quality as a factor & the other variables as numeric"
   ]
  },
  {
   "cell_type": "code",
   "execution_count": 104,
   "metadata": {},
   "outputs": [
    {
     "data": {
      "text/html": [
       "<table>\n",
       "<caption>A data.frame: 1599 × 12</caption>\n",
       "<thead>\n",
       "\t<tr><th scope=col>fixed.acidity</th><th scope=col>volatile.acidity</th><th scope=col>citric.acid</th><th scope=col>residual.sugar</th><th scope=col>chlorides</th><th scope=col>free.sulfur.dioxide</th><th scope=col>total.sulfur.dioxide</th><th scope=col>density</th><th scope=col>pH</th><th scope=col>sulphates</th><th scope=col>alcohol</th><th scope=col>quality</th></tr>\n",
       "\t<tr><th scope=col>&lt;dbl&gt;</th><th scope=col>&lt;dbl&gt;</th><th scope=col>&lt;dbl&gt;</th><th scope=col>&lt;dbl&gt;</th><th scope=col>&lt;dbl&gt;</th><th scope=col>&lt;dbl&gt;</th><th scope=col>&lt;dbl&gt;</th><th scope=col>&lt;dbl&gt;</th><th scope=col>&lt;dbl&gt;</th><th scope=col>&lt;dbl&gt;</th><th scope=col>&lt;dbl&gt;</th><th scope=col>&lt;fct&gt;</th></tr>\n",
       "</thead>\n",
       "<tbody>\n",
       "\t<tr><td>7.4</td><td>0.70</td><td>0.00</td><td>1.9</td><td>0.076</td><td>11</td><td>34</td><td>0.9978</td><td>3.51</td><td>0.56</td><td>9.4</td><td>Satisfactory</td></tr>\n",
       "\t<tr><td>7.8</td><td>0.88</td><td>0.00</td><td>2.6</td><td>0.098</td><td>25</td><td>67</td><td>0.9968</td><td>3.20</td><td>0.68</td><td>9.8</td><td>Satisfactory</td></tr>\n",
       "\t<tr><td>7.8</td><td>0.76</td><td>0.04</td><td>2.3</td><td>0.092</td><td>15</td><td>54</td><td>0.9970</td><td>3.26</td><td>0.65</td><td>9.8</td><td>Satisfactory</td></tr>\n",
       "\t<tr><td>⋮</td><td>⋮</td><td>⋮</td><td>⋮</td><td>⋮</td><td>⋮</td><td>⋮</td><td>⋮</td><td>⋮</td><td>⋮</td><td>⋮</td><td>⋮</td></tr>\n",
       "\t<tr><td>6.3</td><td>0.510</td><td>0.13</td><td>2.3</td><td>0.076</td><td>29</td><td>40</td><td>0.99574</td><td>3.42</td><td>0.75</td><td>11.0</td><td>Satisfactory</td></tr>\n",
       "\t<tr><td>5.9</td><td>0.645</td><td>0.12</td><td>2.0</td><td>0.075</td><td>32</td><td>44</td><td>0.99547</td><td>3.57</td><td>0.71</td><td>10.2</td><td>Satisfactory</td></tr>\n",
       "\t<tr><td>6.0</td><td>0.310</td><td>0.47</td><td>3.6</td><td>0.067</td><td>18</td><td>42</td><td>0.99549</td><td>3.39</td><td>0.66</td><td>11.0</td><td>Satisfactory</td></tr>\n",
       "</tbody>\n",
       "</table>\n"
      ],
      "text/latex": [
       "A data.frame: 1599 × 12\n",
       "\\begin{tabular}{llllllllllll}\n",
       " fixed.acidity & volatile.acidity & citric.acid & residual.sugar & chlorides & free.sulfur.dioxide & total.sulfur.dioxide & density & pH & sulphates & alcohol & quality\\\\\n",
       " <dbl> & <dbl> & <dbl> & <dbl> & <dbl> & <dbl> & <dbl> & <dbl> & <dbl> & <dbl> & <dbl> & <fct>\\\\\n",
       "\\hline\n",
       "\t 7.4 & 0.70 & 0.00 & 1.9 & 0.076 & 11 & 34 & 0.9978 & 3.51 & 0.56 & 9.4 & Satisfactory\\\\\n",
       "\t 7.8 & 0.88 & 0.00 & 2.6 & 0.098 & 25 & 67 & 0.9968 & 3.20 & 0.68 & 9.8 & Satisfactory\\\\\n",
       "\t 7.8 & 0.76 & 0.04 & 2.3 & 0.092 & 15 & 54 & 0.9970 & 3.26 & 0.65 & 9.8 & Satisfactory\\\\\n",
       "\t ⋮ & ⋮ & ⋮ & ⋮ & ⋮ & ⋮ & ⋮ & ⋮ & ⋮ & ⋮ & ⋮ & ⋮\\\\\n",
       "\t 6.3 & 0.510 & 0.13 & 2.3 & 0.076 & 29 & 40 & 0.99574 & 3.42 & 0.75 & 11.0 & Satisfactory\\\\\n",
       "\t 5.9 & 0.645 & 0.12 & 2.0 & 0.075 & 32 & 44 & 0.99547 & 3.57 & 0.71 & 10.2 & Satisfactory\\\\\n",
       "\t 6.0 & 0.310 & 0.47 & 3.6 & 0.067 & 18 & 42 & 0.99549 & 3.39 & 0.66 & 11.0 & Satisfactory\\\\\n",
       "\\end{tabular}\n"
      ],
      "text/markdown": [
       "\n",
       "A data.frame: 1599 × 12\n",
       "\n",
       "| fixed.acidity &lt;dbl&gt; | volatile.acidity &lt;dbl&gt; | citric.acid &lt;dbl&gt; | residual.sugar &lt;dbl&gt; | chlorides &lt;dbl&gt; | free.sulfur.dioxide &lt;dbl&gt; | total.sulfur.dioxide &lt;dbl&gt; | density &lt;dbl&gt; | pH &lt;dbl&gt; | sulphates &lt;dbl&gt; | alcohol &lt;dbl&gt; | quality &lt;fct&gt; |\n",
       "|---|---|---|---|---|---|---|---|---|---|---|---|\n",
       "| 7.4 | 0.70 | 0.00 | 1.9 | 0.076 | 11 | 34 | 0.9978 | 3.51 | 0.56 | 9.4 | Satisfactory |\n",
       "| 7.8 | 0.88 | 0.00 | 2.6 | 0.098 | 25 | 67 | 0.9968 | 3.20 | 0.68 | 9.8 | Satisfactory |\n",
       "| 7.8 | 0.76 | 0.04 | 2.3 | 0.092 | 15 | 54 | 0.9970 | 3.26 | 0.65 | 9.8 | Satisfactory |\n",
       "| ⋮ | ⋮ | ⋮ | ⋮ | ⋮ | ⋮ | ⋮ | ⋮ | ⋮ | ⋮ | ⋮ | ⋮ |\n",
       "| 6.3 | 0.510 | 0.13 | 2.3 | 0.076 | 29 | 40 | 0.99574 | 3.42 | 0.75 | 11.0 | Satisfactory |\n",
       "| 5.9 | 0.645 | 0.12 | 2.0 | 0.075 | 32 | 44 | 0.99547 | 3.57 | 0.71 | 10.2 | Satisfactory |\n",
       "| 6.0 | 0.310 | 0.47 | 3.6 | 0.067 | 18 | 42 | 0.99549 | 3.39 | 0.66 | 11.0 | Satisfactory |\n",
       "\n"
      ],
      "text/plain": [
       "     fixed.acidity volatile.acidity citric.acid residual.sugar chlorides\n",
       "1    7.4           0.70             0.00        1.9            0.076    \n",
       "2    7.8           0.88             0.00        2.6            0.098    \n",
       "3    7.8           0.76             0.04        2.3            0.092    \n",
       "⋮    ⋮             ⋮                ⋮           ⋮              ⋮        \n",
       "1597 6.3           0.510            0.13        2.3            0.076    \n",
       "1598 5.9           0.645            0.12        2.0            0.075    \n",
       "1599 6.0           0.310            0.47        3.6            0.067    \n",
       "     free.sulfur.dioxide total.sulfur.dioxide density pH   sulphates alcohol\n",
       "1    11                  34                   0.9978  3.51 0.56      9.4    \n",
       "2    25                  67                   0.9968  3.20 0.68      9.8    \n",
       "3    15                  54                   0.9970  3.26 0.65      9.8    \n",
       "⋮    ⋮                   ⋮                    ⋮       ⋮    ⋮         ⋮      \n",
       "1597 29                  40                   0.99574 3.42 0.75      11.0   \n",
       "1598 32                  44                   0.99547 3.57 0.71      10.2   \n",
       "1599 18                  42                   0.99549 3.39 0.66      11.0   \n",
       "     quality     \n",
       "1    Satisfactory\n",
       "2    Satisfactory\n",
       "3    Satisfactory\n",
       "⋮    ⋮           \n",
       "1597 Satisfactory\n",
       "1598 Satisfactory\n",
       "1599 Satisfactory"
      ]
     },
     "metadata": {},
     "output_type": "display_data"
    }
   ],
   "source": [
    "red_wine <- red_wine %>% \n",
    "    mutate(fixed.acidity = as.numeric(fixed.acidity)) %>% \n",
    "    mutate(volatile.acidity = as.numeric(volatile.acidity)) %>% \n",
    "    mutate(citric.acid = as.numeric(citric.acid)) %>% \n",
    "    mutate(residual.sugar = as.numeric(residual.sugar)) %>% \n",
    "    mutate(chlorides = as.numeric(chlorides)) %>% \n",
    "    mutate(free.sulfur.dioxide = as.numeric(free.sulfur.dioxide)) %>% \n",
    "    mutate(total.sulfur.dioxide = as.numeric(total.sulfur.dioxide)) %>% \n",
    "    mutate(density = as.numeric(density)) %>% \n",
    "    mutate(pH = as.numeric(pH)) %>% \n",
    "    mutate(sulphates = as.numeric(sulphates)) %>% \n",
    "    mutate(alcohol = as.numeric(alcohol)) %>% \n",
    "    mutate(quality = as.factor(quality))\n",
    "red_wine"
   ]
  },
  {
   "cell_type": "markdown",
   "metadata": {},
   "source": [
    "### 4. Create a table with the counts for each quality classification"
   ]
  },
  {
   "cell_type": "code",
   "execution_count": 105,
   "metadata": {},
   "outputs": [
    {
     "name": "stderr",
     "output_type": "stream",
     "text": [
      "`summarise()` ungrouping output (override with `.groups` argument)\n",
      "\n"
     ]
    },
    {
     "data": {
      "text/html": [
       "<table>\n",
       "<caption>A tibble: 3 × 2</caption>\n",
       "<thead>\n",
       "\t<tr><th scope=col>quality</th><th scope=col>quality_counts</th></tr>\n",
       "\t<tr><th scope=col>&lt;fct&gt;</th><th scope=col>&lt;chr&gt;</th></tr>\n",
       "</thead>\n",
       "<tbody>\n",
       "\t<tr><td>Excellent   </td><td>numeric</td></tr>\n",
       "\t<tr><td>Poor        </td><td>numeric</td></tr>\n",
       "\t<tr><td>Satisfactory</td><td>numeric</td></tr>\n",
       "</tbody>\n",
       "</table>\n"
      ],
      "text/latex": [
       "A tibble: 3 × 2\n",
       "\\begin{tabular}{ll}\n",
       " quality & quality\\_counts\\\\\n",
       " <fct> & <chr>\\\\\n",
       "\\hline\n",
       "\t Excellent    & numeric\\\\\n",
       "\t Poor         & numeric\\\\\n",
       "\t Satisfactory & numeric\\\\\n",
       "\\end{tabular}\n"
      ],
      "text/markdown": [
       "\n",
       "A tibble: 3 × 2\n",
       "\n",
       "| quality &lt;fct&gt; | quality_counts &lt;chr&gt; |\n",
       "|---|---|\n",
       "| Excellent    | numeric |\n",
       "| Poor         | numeric |\n",
       "| Satisfactory | numeric |\n",
       "\n"
      ],
      "text/plain": [
       "  quality      quality_counts\n",
       "1 Excellent    numeric       \n",
       "2 Poor         numeric       \n",
       "3 Satisfactory numeric       "
      ]
     },
     "metadata": {},
     "output_type": "display_data"
    }
   ],
   "source": [
    "quality_count <- red_wine %>%\n",
    "    group_by(quality) %>% \n",
    "    summarize(quality_counts = mode(quality))\n",
    "quality_count"
   ]
  },
  {
   "cell_type": "markdown",
   "metadata": {},
   "source": [
    "### 5. Compare the amount of observations within each quality classification"
   ]
  },
  {
   "cell_type": "code",
   "execution_count": 106,
   "metadata": {},
   "outputs": [
    {
     "data": {
      "image/png": "[encoded data removed]",
      "text/plain": [
       "plot without title"
      ]
     },
     "metadata": {
      "image/png": {
       "height": 480,
       "width": 720
      }
     },
     "output_type": "display_data"
    }
   ],
   "source": [
    "options(repr.plot.width = 12, repr.plot.height = 8)\n",
    "quality_distribution <- red_wine %>% \n",
    "    ggplot(aes(x = quality, fill = quality)) +\n",
    "    geom_bar() +\n",
    "    labs(x = \"Red Wine Quality\", y = \"Number of Observations\", fill = \"Wine Classification\") +\n",
    "    ggtitle(\"Figure 1: Distribution of Red Wine Quality\") +\n",
    "    theme(text = element_text(size = 20))\n",
    "quality_distribution"
   ]
  },
  {
   "cell_type": "markdown",
   "metadata": {},
   "source": [
    "## K-nearest Neighbors Classification"
   ]
  },
  {
   "cell_type": "code",
   "execution_count": 107,
   "metadata": {},
   "outputs": [
    {
     "data": {
      "text/html": [
       "<table>\n",
       "<caption>A data.frame: 1599 × 12</caption>\n",
       "<thead>\n",
       "\t<tr><th scope=col>fixed.acidity</th><th scope=col>volatile.acidity</th><th scope=col>citric.acid</th><th scope=col>residual.sugar</th><th scope=col>chlorides</th><th scope=col>free.sulfur.dioxide</th><th scope=col>total.sulfur.dioxide</th><th scope=col>density</th><th scope=col>pH</th><th scope=col>sulphates</th><th scope=col>alcohol</th><th scope=col>quality</th></tr>\n",
       "\t<tr><th scope=col>&lt;dbl&gt;</th><th scope=col>&lt;dbl&gt;</th><th scope=col>&lt;dbl&gt;</th><th scope=col>&lt;dbl&gt;</th><th scope=col>&lt;dbl&gt;</th><th scope=col>&lt;dbl&gt;</th><th scope=col>&lt;dbl&gt;</th><th scope=col>&lt;dbl&gt;</th><th scope=col>&lt;dbl&gt;</th><th scope=col>&lt;dbl&gt;</th><th scope=col>&lt;dbl&gt;</th><th scope=col>&lt;fct&gt;</th></tr>\n",
       "</thead>\n",
       "<tbody>\n",
       "\t<tr><td>7.4</td><td>0.70</td><td>0.00</td><td>1.9</td><td>0.076</td><td>11</td><td>34</td><td>0.9978</td><td>3.51</td><td>0.56</td><td>9.4</td><td>Satisfactory</td></tr>\n",
       "\t<tr><td>7.8</td><td>0.88</td><td>0.00</td><td>2.6</td><td>0.098</td><td>25</td><td>67</td><td>0.9968</td><td>3.20</td><td>0.68</td><td>9.8</td><td>Satisfactory</td></tr>\n",
       "\t<tr><td>7.8</td><td>0.76</td><td>0.04</td><td>2.3</td><td>0.092</td><td>15</td><td>54</td><td>0.9970</td><td>3.26</td><td>0.65</td><td>9.8</td><td>Satisfactory</td></tr>\n",
       "\t<tr><td>⋮</td><td>⋮</td><td>⋮</td><td>⋮</td><td>⋮</td><td>⋮</td><td>⋮</td><td>⋮</td><td>⋮</td><td>⋮</td><td>⋮</td><td>⋮</td></tr>\n",
       "\t<tr><td>6.3</td><td>0.510</td><td>0.13</td><td>2.3</td><td>0.076</td><td>29</td><td>40</td><td>0.99574</td><td>3.42</td><td>0.75</td><td>11.0</td><td>Satisfactory</td></tr>\n",
       "\t<tr><td>5.9</td><td>0.645</td><td>0.12</td><td>2.0</td><td>0.075</td><td>32</td><td>44</td><td>0.99547</td><td>3.57</td><td>0.71</td><td>10.2</td><td>Satisfactory</td></tr>\n",
       "\t<tr><td>6.0</td><td>0.310</td><td>0.47</td><td>3.6</td><td>0.067</td><td>18</td><td>42</td><td>0.99549</td><td>3.39</td><td>0.66</td><td>11.0</td><td>Satisfactory</td></tr>\n",
       "</tbody>\n",
       "</table>\n"
      ],
      "text/latex": [
       "A data.frame: 1599 × 12\n",
       "\\begin{tabular}{llllllllllll}\n",
       " fixed.acidity & volatile.acidity & citric.acid & residual.sugar & chlorides & free.sulfur.dioxide & total.sulfur.dioxide & density & pH & sulphates & alcohol & quality\\\\\n",
       " <dbl> & <dbl> & <dbl> & <dbl> & <dbl> & <dbl> & <dbl> & <dbl> & <dbl> & <dbl> & <dbl> & <fct>\\\\\n",
       "\\hline\n",
       "\t 7.4 & 0.70 & 0.00 & 1.9 & 0.076 & 11 & 34 & 0.9978 & 3.51 & 0.56 & 9.4 & Satisfactory\\\\\n",
       "\t 7.8 & 0.88 & 0.00 & 2.6 & 0.098 & 25 & 67 & 0.9968 & 3.20 & 0.68 & 9.8 & Satisfactory\\\\\n",
       "\t 7.8 & 0.76 & 0.04 & 2.3 & 0.092 & 15 & 54 & 0.9970 & 3.26 & 0.65 & 9.8 & Satisfactory\\\\\n",
       "\t ⋮ & ⋮ & ⋮ & ⋮ & ⋮ & ⋮ & ⋮ & ⋮ & ⋮ & ⋮ & ⋮ & ⋮\\\\\n",
       "\t 6.3 & 0.510 & 0.13 & 2.3 & 0.076 & 29 & 40 & 0.99574 & 3.42 & 0.75 & 11.0 & Satisfactory\\\\\n",
       "\t 5.9 & 0.645 & 0.12 & 2.0 & 0.075 & 32 & 44 & 0.99547 & 3.57 & 0.71 & 10.2 & Satisfactory\\\\\n",
       "\t 6.0 & 0.310 & 0.47 & 3.6 & 0.067 & 18 & 42 & 0.99549 & 3.39 & 0.66 & 11.0 & Satisfactory\\\\\n",
       "\\end{tabular}\n"
      ],
      "text/markdown": [
       "\n",
       "A data.frame: 1599 × 12\n",
       "\n",
       "| fixed.acidity &lt;dbl&gt; | volatile.acidity &lt;dbl&gt; | citric.acid &lt;dbl&gt; | residual.sugar &lt;dbl&gt; | chlorides &lt;dbl&gt; | free.sulfur.dioxide &lt;dbl&gt; | total.sulfur.dioxide &lt;dbl&gt; | density &lt;dbl&gt; | pH &lt;dbl&gt; | sulphates &lt;dbl&gt; | alcohol &lt;dbl&gt; | quality &lt;fct&gt; |\n",
       "|---|---|---|---|---|---|---|---|---|---|---|---|\n",
       "| 7.4 | 0.70 | 0.00 | 1.9 | 0.076 | 11 | 34 | 0.9978 | 3.51 | 0.56 | 9.4 | Satisfactory |\n",
       "| 7.8 | 0.88 | 0.00 | 2.6 | 0.098 | 25 | 67 | 0.9968 | 3.20 | 0.68 | 9.8 | Satisfactory |\n",
       "| 7.8 | 0.76 | 0.04 | 2.3 | 0.092 | 15 | 54 | 0.9970 | 3.26 | 0.65 | 9.8 | Satisfactory |\n",
       "| ⋮ | ⋮ | ⋮ | ⋮ | ⋮ | ⋮ | ⋮ | ⋮ | ⋮ | ⋮ | ⋮ | ⋮ |\n",
       "| 6.3 | 0.510 | 0.13 | 2.3 | 0.076 | 29 | 40 | 0.99574 | 3.42 | 0.75 | 11.0 | Satisfactory |\n",
       "| 5.9 | 0.645 | 0.12 | 2.0 | 0.075 | 32 | 44 | 0.99547 | 3.57 | 0.71 | 10.2 | Satisfactory |\n",
       "| 6.0 | 0.310 | 0.47 | 3.6 | 0.067 | 18 | 42 | 0.99549 | 3.39 | 0.66 | 11.0 | Satisfactory |\n",
       "\n"
      ],
      "text/plain": [
       "     fixed.acidity volatile.acidity citric.acid residual.sugar chlorides\n",
       "1    7.4           0.70             0.00        1.9            0.076    \n",
       "2    7.8           0.88             0.00        2.6            0.098    \n",
       "3    7.8           0.76             0.04        2.3            0.092    \n",
       "⋮    ⋮             ⋮                ⋮           ⋮              ⋮        \n",
       "1597 6.3           0.510            0.13        2.3            0.076    \n",
       "1598 5.9           0.645            0.12        2.0            0.075    \n",
       "1599 6.0           0.310            0.47        3.6            0.067    \n",
       "     free.sulfur.dioxide total.sulfur.dioxide density pH   sulphates alcohol\n",
       "1    11                  34                   0.9978  3.51 0.56      9.4    \n",
       "2    25                  67                   0.9968  3.20 0.68      9.8    \n",
       "3    15                  54                   0.9970  3.26 0.65      9.8    \n",
       "⋮    ⋮                   ⋮                    ⋮       ⋮    ⋮         ⋮      \n",
       "1597 29                  40                   0.99574 3.42 0.75      11.0   \n",
       "1598 32                  44                   0.99547 3.57 0.71      10.2   \n",
       "1599 18                  42                   0.99549 3.39 0.66      11.0   \n",
       "     quality     \n",
       "1    Satisfactory\n",
       "2    Satisfactory\n",
       "3    Satisfactory\n",
       "⋮    ⋮           \n",
       "1597 Satisfactory\n",
       "1598 Satisfactory\n",
       "1599 Satisfactory"
      ]
     },
     "metadata": {},
     "output_type": "display_data"
    }
   ],
   "source": [
    "red_wine"
   ]
  },
  {
   "cell_type": "code",
   "execution_count": 108,
   "metadata": {},
   "outputs": [
    {
     "data": {
      "text/html": [
       "0"
      ],
      "text/latex": [
       "0"
      ],
      "text/markdown": [
       "0"
      ],
      "text/plain": [
       "[1] 0"
      ]
     },
     "metadata": {},
     "output_type": "display_data"
    }
   ],
   "source": [
    "na_number<-sum(is.na(red_wine))\n",
    "na_number"
   ]
  },
  {
   "cell_type": "markdown",
   "metadata": {},
   "source": [
    "### 1. Separate red_wine into a training and testing set"
   ]
  },
  {
   "cell_type": "code",
   "execution_count": 109,
   "metadata": {},
   "outputs": [],
   "source": [
    "set.seed(1234)\n",
    "\n",
    "red_wine_split <- initial_split(red_wine, prop = 0.75, strata = quality)\n",
    "red_wine_training <- training(red_wine_split)\n",
    "red_wine_testing <- testing(red_wine_split)"
   ]
  },
  {
   "cell_type": "markdown",
   "metadata": {},
   "source": [
    "### 2. Create a recipe using all predictors"
   ]
  },
  {
   "cell_type": "code",
   "execution_count": 110,
   "metadata": {},
   "outputs": [
    {
     "data": {
      "text/plain": [
       "Data Recipe\n",
       "\n",
       "Inputs:\n",
       "\n",
       "      role #variables\n",
       "   outcome          1\n",
       " predictor         11\n",
       "\n",
       "Operations:\n",
       "\n",
       "Centering for all_predictors()\n",
       "Scaling for all_predictors()"
      ]
     },
     "metadata": {},
     "output_type": "display_data"
    }
   ],
   "source": [
    "set.seed(1234)\n",
    "\n",
    "recipe <- recipe(quality ~ . , data = red_wine_training)%>%\n",
    "    step_center(all_predictors()) %>%\n",
    "    step_scale(all_predictors())\n",
    "recipe"
   ]
  },
  {
   "cell_type": "markdown",
   "metadata": {},
   "source": [
    "### 3. Perform 10-fold cross-validation on red_wine_training"
   ]
  },
  {
   "cell_type": "code",
   "execution_count": 111,
   "metadata": {},
   "outputs": [],
   "source": [
    "set.seed(1234)\n",
    "\n",
    "vfold <- vfold_cv(red_wine_training, v = 10, strata = quality)"
   ]
  },
  {
   "cell_type": "markdown",
   "metadata": {},
   "source": [
    "### 4. Tune to get the highest K"
   ]
  },
  {
   "cell_type": "code",
   "execution_count": 112,
   "metadata": {},
   "outputs": [
    {
     "data": {
      "text/plain": [
       "K-Nearest Neighbor Model Specification (classification)\n",
       "\n",
       "Main Arguments:\n",
       "  neighbors = tune()\n",
       "  weight_func = rectangular\n",
       "\n",
       "Computational engine: kknn \n"
      ]
     },
     "metadata": {},
     "output_type": "display_data"
    }
   ],
   "source": [
    "set.seed(1234)\n",
    "\n",
    "knn_tune <- nearest_neighbor(weight_func = \"rectangular\", neighbors = tune()) %>%\n",
    "    set_engine(\"kknn\") %>%\n",
    "    set_mode(\"classification\")\n",
    "knn_tune"
   ]
  },
  {
   "cell_type": "markdown",
   "metadata": {},
   "source": [
    "### 5. Create a workflow analysis"
   ]
  },
  {
   "cell_type": "code",
   "execution_count": 113,
   "metadata": {},
   "outputs": [
    {
     "data": {
      "text/html": [
       "<table>\n",
       "<caption>A tibble: 30 × 7</caption>\n",
       "<thead>\n",
       "\t<tr><th scope=col>neighbors</th><th scope=col>.metric</th><th scope=col>.estimator</th><th scope=col>mean</th><th scope=col>n</th><th scope=col>std_err</th><th scope=col>.config</th></tr>\n",
       "\t<tr><th scope=col>&lt;int&gt;</th><th scope=col>&lt;chr&gt;</th><th scope=col>&lt;chr&gt;</th><th scope=col>&lt;dbl&gt;</th><th scope=col>&lt;int&gt;</th><th scope=col>&lt;dbl&gt;</th><th scope=col>&lt;chr&gt;</th></tr>\n",
       "</thead>\n",
       "<tbody>\n",
       "\t<tr><td>1</td><td>accuracy</td><td>multiclass</td><td>0.8216667</td><td>10</td><td>0.01298147</td><td>Model01</td></tr>\n",
       "\t<tr><td>1</td><td>roc_auc </td><td>hand_till </td><td>0.6471023</td><td>10</td><td>0.01677644</td><td>Model01</td></tr>\n",
       "\t<tr><td>2</td><td>accuracy</td><td>multiclass</td><td>0.8216667</td><td>10</td><td>0.01298147</td><td>Model02</td></tr>\n",
       "\t<tr><td>⋮</td><td>⋮</td><td>⋮</td><td>⋮</td><td>⋮</td><td>⋮</td><td>⋮</td></tr>\n",
       "\t<tr><td>14</td><td>roc_auc </td><td>hand_till </td><td>0.7559419</td><td>10</td><td>0.019442882</td><td>Model14</td></tr>\n",
       "\t<tr><td>15</td><td>accuracy</td><td>multiclass</td><td>0.8241667</td><td>10</td><td>0.007997878</td><td>Model15</td></tr>\n",
       "\t<tr><td>15</td><td>roc_auc </td><td>hand_till </td><td>0.7531833</td><td>10</td><td>0.019748802</td><td>Model15</td></tr>\n",
       "</tbody>\n",
       "</table>\n"
      ],
      "text/latex": [
       "A tibble: 30 × 7\n",
       "\\begin{tabular}{lllllll}\n",
       " neighbors & .metric & .estimator & mean & n & std\\_err & .config\\\\\n",
       " <int> & <chr> & <chr> & <dbl> & <int> & <dbl> & <chr>\\\\\n",
       "\\hline\n",
       "\t 1 & accuracy & multiclass & 0.8216667 & 10 & 0.01298147 & Model01\\\\\n",
       "\t 1 & roc\\_auc  & hand\\_till  & 0.6471023 & 10 & 0.01677644 & Model01\\\\\n",
       "\t 2 & accuracy & multiclass & 0.8216667 & 10 & 0.01298147 & Model02\\\\\n",
       "\t ⋮ & ⋮ & ⋮ & ⋮ & ⋮ & ⋮ & ⋮\\\\\n",
       "\t 14 & roc\\_auc  & hand\\_till  & 0.7559419 & 10 & 0.019442882 & Model14\\\\\n",
       "\t 15 & accuracy & multiclass & 0.8241667 & 10 & 0.007997878 & Model15\\\\\n",
       "\t 15 & roc\\_auc  & hand\\_till  & 0.7531833 & 10 & 0.019748802 & Model15\\\\\n",
       "\\end{tabular}\n"
      ],
      "text/markdown": [
       "\n",
       "A tibble: 30 × 7\n",
       "\n",
       "| neighbors &lt;int&gt; | .metric &lt;chr&gt; | .estimator &lt;chr&gt; | mean &lt;dbl&gt; | n &lt;int&gt; | std_err &lt;dbl&gt; | .config &lt;chr&gt; |\n",
       "|---|---|---|---|---|---|---|\n",
       "| 1 | accuracy | multiclass | 0.8216667 | 10 | 0.01298147 | Model01 |\n",
       "| 1 | roc_auc  | hand_till  | 0.6471023 | 10 | 0.01677644 | Model01 |\n",
       "| 2 | accuracy | multiclass | 0.8216667 | 10 | 0.01298147 | Model02 |\n",
       "| ⋮ | ⋮ | ⋮ | ⋮ | ⋮ | ⋮ | ⋮ |\n",
       "| 14 | roc_auc  | hand_till  | 0.7559419 | 10 | 0.019442882 | Model14 |\n",
       "| 15 | accuracy | multiclass | 0.8241667 | 10 | 0.007997878 | Model15 |\n",
       "| 15 | roc_auc  | hand_till  | 0.7531833 | 10 | 0.019748802 | Model15 |\n",
       "\n"
      ],
      "text/plain": [
       "   neighbors .metric  .estimator mean      n  std_err     .config\n",
       "1  1         accuracy multiclass 0.8216667 10 0.01298147  Model01\n",
       "2  1         roc_auc  hand_till  0.6471023 10 0.01677644  Model01\n",
       "3  2         accuracy multiclass 0.8216667 10 0.01298147  Model02\n",
       "⋮  ⋮         ⋮        ⋮          ⋮         ⋮  ⋮           ⋮      \n",
       "28 14        roc_auc  hand_till  0.7559419 10 0.019442882 Model14\n",
       "29 15        accuracy multiclass 0.8241667 10 0.007997878 Model15\n",
       "30 15        roc_auc  hand_till  0.7531833 10 0.019748802 Model15"
      ]
     },
     "metadata": {},
     "output_type": "display_data"
    }
   ],
   "source": [
    "set.seed(1234)\n",
    "\n",
    "knn_results <- workflow() %>%\n",
    "    add_recipe(recipe) %>%\n",
    "    add_model(knn_tune) %>%\n",
    "    tune_grid(resamples = vfold, grid = 20) %>%\n",
    "    collect_metrics()\n",
    "knn_results "
   ]
  },
  {
   "cell_type": "markdown",
   "metadata": {},
   "source": [
    "### 6. Collect the results and plot the accuracy against K"
   ]
  },
  {
   "cell_type": "code",
   "execution_count": 118,
   "metadata": {},
   "outputs": [
    {
     "data": {
      "image/png": "[encoded data removed]",
      "text/plain": [
       "plot without title"
      ]
     },
     "metadata": {
      "image/png": {
       "height": 480,
       "width": 720
      }
     },
     "output_type": "display_data"
    }
   ],
   "source": [
    "set.seed(1234)\n",
    "\n",
    "accuracies <- knn_results %>% \n",
    "    filter(.metric == \"accuracy\")\n",
    "\n",
    "cross_val_plot <- ggplot(accuracies, aes(x = neighbors, y = mean))+\n",
    "    geom_point() +\n",
    "    geom_line() +\n",
    "    labs(x = \"Neighbors\", y = \"Accuracy Estimate\", title = \"Figure 2: Plot of Accuracy Estimate Vs. the K nearest Neighbors\") +\n",
    "    scale_x_continuous(breaks = seq(0, 14, by = 1)) +  \n",
    "    scale_y_continuous(limits = c(0.4, 1.0)) +  \n",
    "    theme(text = element_text(size = 20)) \n",
    "cross_val_plot"
   ]
  },
  {
   "cell_type": "markdown",
   "metadata": {},
   "source": [
    "### 7. Select the best K that has a high accuracy estimate "
   ]
  },
  {
   "cell_type": "code",
   "execution_count": 115,
   "metadata": {},
   "outputs": [
    {
     "data": {
      "text/html": [
       "<table>\n",
       "<caption>A tibble: 1 × 7</caption>\n",
       "<thead>\n",
       "\t<tr><th scope=col>neighbors</th><th scope=col>.metric</th><th scope=col>.estimator</th><th scope=col>mean</th><th scope=col>n</th><th scope=col>std_err</th><th scope=col>.config</th></tr>\n",
       "\t<tr><th scope=col>&lt;int&gt;</th><th scope=col>&lt;chr&gt;</th><th scope=col>&lt;chr&gt;</th><th scope=col>&lt;dbl&gt;</th><th scope=col>&lt;int&gt;</th><th scope=col>&lt;dbl&gt;</th><th scope=col>&lt;chr&gt;</th></tr>\n",
       "</thead>\n",
       "<tbody>\n",
       "\t<tr><td>6</td><td>accuracy</td><td>multiclass</td><td>0.8325</td><td>10</td><td>0.008735658</td><td>Model06</td></tr>\n",
       "</tbody>\n",
       "</table>\n"
      ],
      "text/latex": [
       "A tibble: 1 × 7\n",
       "\\begin{tabular}{lllllll}\n",
       " neighbors & .metric & .estimator & mean & n & std\\_err & .config\\\\\n",
       " <int> & <chr> & <chr> & <dbl> & <int> & <dbl> & <chr>\\\\\n",
       "\\hline\n",
       "\t 6 & accuracy & multiclass & 0.8325 & 10 & 0.008735658 & Model06\\\\\n",
       "\\end{tabular}\n"
      ],
      "text/markdown": [
       "\n",
       "A tibble: 1 × 7\n",
       "\n",
       "| neighbors &lt;int&gt; | .metric &lt;chr&gt; | .estimator &lt;chr&gt; | mean &lt;dbl&gt; | n &lt;int&gt; | std_err &lt;dbl&gt; | .config &lt;chr&gt; |\n",
       "|---|---|---|---|---|---|---|\n",
       "| 6 | accuracy | multiclass | 0.8325 | 10 | 0.008735658 | Model06 |\n",
       "\n"
      ],
      "text/plain": [
       "  neighbors .metric  .estimator mean   n  std_err     .config\n",
       "1 6         accuracy multiclass 0.8325 10 0.008735658 Model06"
      ]
     },
     "metadata": {},
     "output_type": "display_data"
    },
    {
     "data": {
      "text/html": [
       "6"
      ],
      "text/latex": [
       "6"
      ],
      "text/markdown": [
       "6"
      ],
      "text/plain": [
       "[1] 6"
      ]
     },
     "metadata": {},
     "output_type": "display_data"
    }
   ],
   "source": [
    "set.seed(1234)\n",
    "\n",
    "best_accuracy <-  accuracies %>% filter(mean == max(mean)) %>% slice(1)\n",
    "best_accuracy\n",
    "\n",
    "best_k <- best_accuracy %>% pull(neighbors)\n",
    "best_k"
   ]
  },
  {
   "cell_type": "markdown",
   "metadata": {},
   "source": [
    "### 8. Build the final classification model with the best K"
   ]
  },
  {
   "cell_type": "code",
   "execution_count": 116,
   "metadata": {},
   "outputs": [
    {
     "data": {
      "text/plain": [
       "K-Nearest Neighbor Model Specification (classification)\n",
       "\n",
       "Main Arguments:\n",
       "  neighbors = best_k\n",
       "  weight_func = rectangular\n",
       "\n",
       "Computational engine: kknn \n"
      ]
     },
     "metadata": {},
     "output_type": "display_data"
    },
    {
     "data": {
      "text/plain": [
       "══ Workflow [trained] ══════════════════════════════════════════════════════════\n",
       "\u001b[3mPreprocessor:\u001b[23m Recipe\n",
       "\u001b[3mModel:\u001b[23m nearest_neighbor()\n",
       "\n",
       "── Preprocessor ────────────────────────────────────────────────────────────────\n",
       "2 Recipe Steps\n",
       "\n",
       "● step_center()\n",
       "● step_scale()\n",
       "\n",
       "── Model ───────────────────────────────────────────────────────────────────────\n",
       "\n",
       "Call:\n",
       "kknn::train.kknn(formula = ..y ~ ., data = data, ks = ~best_k,     kernel = ~\"rectangular\")\n",
       "\n",
       "Type of response variable: nominal\n",
       "Minimal misclassification: 0.1766667\n",
       "Best kernel: rectangular\n",
       "Best k: 6"
      ]
     },
     "metadata": {},
     "output_type": "display_data"
    }
   ],
   "source": [
    "set.seed(1234)\n",
    "\n",
    "mnist_spec <- nearest_neighbor(weight_func = \"rectangular\", neighbors = best_k) %>%\n",
    "    set_engine(\"kknn\") %>%\n",
    "    set_mode(\"classification\")\n",
    "mnist_spec\n",
    "\n",
    "mnist_fit <- workflow() %>%\n",
    "    add_recipe(recipe) %>%\n",
    "    add_model(mnist_spec) %>%\n",
    "    fit(data = red_wine_training)\n",
    "mnist_fit "
   ]
  },
  {
   "cell_type": "markdown",
   "metadata": {},
   "source": [
    "### 9. Predict on red_wine_testing & report the prediction accuracy and confusion matrix"
   ]
  },
  {
   "cell_type": "code",
   "execution_count": 117,
   "metadata": {},
   "outputs": [
    {
     "data": {
      "text/html": [
       "<table>\n",
       "<caption>A tibble: 399 × 13</caption>\n",
       "<thead>\n",
       "\t<tr><th scope=col>.pred_class</th><th scope=col>fixed.acidity</th><th scope=col>volatile.acidity</th><th scope=col>citric.acid</th><th scope=col>residual.sugar</th><th scope=col>chlorides</th><th scope=col>free.sulfur.dioxide</th><th scope=col>total.sulfur.dioxide</th><th scope=col>density</th><th scope=col>pH</th><th scope=col>sulphates</th><th scope=col>alcohol</th><th scope=col>quality</th></tr>\n",
       "\t<tr><th scope=col>&lt;fct&gt;</th><th scope=col>&lt;dbl&gt;</th><th scope=col>&lt;dbl&gt;</th><th scope=col>&lt;dbl&gt;</th><th scope=col>&lt;dbl&gt;</th><th scope=col>&lt;dbl&gt;</th><th scope=col>&lt;dbl&gt;</th><th scope=col>&lt;dbl&gt;</th><th scope=col>&lt;dbl&gt;</th><th scope=col>&lt;dbl&gt;</th><th scope=col>&lt;dbl&gt;</th><th scope=col>&lt;dbl&gt;</th><th scope=col>&lt;fct&gt;</th></tr>\n",
       "</thead>\n",
       "<tbody>\n",
       "\t<tr><td>Satisfactory</td><td>7.5</td><td>0.500</td><td>0.36</td><td>6.1</td><td>0.071</td><td>17</td><td>102</td><td>0.9978</td><td>3.35</td><td>0.80</td><td>10.5</td><td>Satisfactory</td></tr>\n",
       "\t<tr><td>Satisfactory</td><td>5.6</td><td>0.615</td><td>0.00</td><td>1.6</td><td>0.089</td><td>16</td><td> 59</td><td>0.9943</td><td>3.58</td><td>0.52</td><td> 9.9</td><td>Satisfactory</td></tr>\n",
       "\t<tr><td>Satisfactory</td><td>8.9</td><td>0.620</td><td>0.18</td><td>3.8</td><td>0.176</td><td>52</td><td>145</td><td>0.9986</td><td>3.16</td><td>0.88</td><td> 9.2</td><td>Satisfactory</td></tr>\n",
       "\t<tr><td>⋮</td><td>⋮</td><td>⋮</td><td>⋮</td><td>⋮</td><td>⋮</td><td>⋮</td><td>⋮</td><td>⋮</td><td>⋮</td><td>⋮</td><td>⋮</td><td>⋮</td></tr>\n",
       "\t<tr><td>Satisfactory</td><td>6.8</td><td>0.67</td><td>0.15</td><td>1.8</td><td>0.118</td><td>13</td><td>20</td><td>0.99540</td><td>3.42</td><td>0.67</td><td>11.3</td><td>Satisfactory</td></tr>\n",
       "\t<tr><td>Excellent   </td><td>6.7</td><td>0.32</td><td>0.44</td><td>2.4</td><td>0.061</td><td>24</td><td>34</td><td>0.99484</td><td>3.29</td><td>0.80</td><td>11.6</td><td>Excellent   </td></tr>\n",
       "\t<tr><td>Satisfactory</td><td>6.0</td><td>0.31</td><td>0.47</td><td>3.6</td><td>0.067</td><td>18</td><td>42</td><td>0.99549</td><td>3.39</td><td>0.66</td><td>11.0</td><td>Satisfactory</td></tr>\n",
       "</tbody>\n",
       "</table>\n"
      ],
      "text/latex": [
       "A tibble: 399 × 13\n",
       "\\begin{tabular}{lllllllllllll}\n",
       " .pred\\_class & fixed.acidity & volatile.acidity & citric.acid & residual.sugar & chlorides & free.sulfur.dioxide & total.sulfur.dioxide & density & pH & sulphates & alcohol & quality\\\\\n",
       " <fct> & <dbl> & <dbl> & <dbl> & <dbl> & <dbl> & <dbl> & <dbl> & <dbl> & <dbl> & <dbl> & <dbl> & <fct>\\\\\n",
       "\\hline\n",
       "\t Satisfactory & 7.5 & 0.500 & 0.36 & 6.1 & 0.071 & 17 & 102 & 0.9978 & 3.35 & 0.80 & 10.5 & Satisfactory\\\\\n",
       "\t Satisfactory & 5.6 & 0.615 & 0.00 & 1.6 & 0.089 & 16 &  59 & 0.9943 & 3.58 & 0.52 &  9.9 & Satisfactory\\\\\n",
       "\t Satisfactory & 8.9 & 0.620 & 0.18 & 3.8 & 0.176 & 52 & 145 & 0.9986 & 3.16 & 0.88 &  9.2 & Satisfactory\\\\\n",
       "\t ⋮ & ⋮ & ⋮ & ⋮ & ⋮ & ⋮ & ⋮ & ⋮ & ⋮ & ⋮ & ⋮ & ⋮ & ⋮\\\\\n",
       "\t Satisfactory & 6.8 & 0.67 & 0.15 & 1.8 & 0.118 & 13 & 20 & 0.99540 & 3.42 & 0.67 & 11.3 & Satisfactory\\\\\n",
       "\t Excellent    & 6.7 & 0.32 & 0.44 & 2.4 & 0.061 & 24 & 34 & 0.99484 & 3.29 & 0.80 & 11.6 & Excellent   \\\\\n",
       "\t Satisfactory & 6.0 & 0.31 & 0.47 & 3.6 & 0.067 & 18 & 42 & 0.99549 & 3.39 & 0.66 & 11.0 & Satisfactory\\\\\n",
       "\\end{tabular}\n"
      ],
      "text/markdown": [
       "\n",
       "A tibble: 399 × 13\n",
       "\n",
       "| .pred_class &lt;fct&gt; | fixed.acidity &lt;dbl&gt; | volatile.acidity &lt;dbl&gt; | citric.acid &lt;dbl&gt; | residual.sugar &lt;dbl&gt; | chlorides &lt;dbl&gt; | free.sulfur.dioxide &lt;dbl&gt; | total.sulfur.dioxide &lt;dbl&gt; | density &lt;dbl&gt; | pH &lt;dbl&gt; | sulphates &lt;dbl&gt; | alcohol &lt;dbl&gt; | quality &lt;fct&gt; |\n",
       "|---|---|---|---|---|---|---|---|---|---|---|---|---|\n",
       "| Satisfactory | 7.5 | 0.500 | 0.36 | 6.1 | 0.071 | 17 | 102 | 0.9978 | 3.35 | 0.80 | 10.5 | Satisfactory |\n",
       "| Satisfactory | 5.6 | 0.615 | 0.00 | 1.6 | 0.089 | 16 |  59 | 0.9943 | 3.58 | 0.52 |  9.9 | Satisfactory |\n",
       "| Satisfactory | 8.9 | 0.620 | 0.18 | 3.8 | 0.176 | 52 | 145 | 0.9986 | 3.16 | 0.88 |  9.2 | Satisfactory |\n",
       "| ⋮ | ⋮ | ⋮ | ⋮ | ⋮ | ⋮ | ⋮ | ⋮ | ⋮ | ⋮ | ⋮ | ⋮ | ⋮ |\n",
       "| Satisfactory | 6.8 | 0.67 | 0.15 | 1.8 | 0.118 | 13 | 20 | 0.99540 | 3.42 | 0.67 | 11.3 | Satisfactory |\n",
       "| Excellent    | 6.7 | 0.32 | 0.44 | 2.4 | 0.061 | 24 | 34 | 0.99484 | 3.29 | 0.80 | 11.6 | Excellent    |\n",
       "| Satisfactory | 6.0 | 0.31 | 0.47 | 3.6 | 0.067 | 18 | 42 | 0.99549 | 3.39 | 0.66 | 11.0 | Satisfactory |\n",
       "\n"
      ],
      "text/plain": [
       "    .pred_class  fixed.acidity volatile.acidity citric.acid residual.sugar\n",
       "1   Satisfactory 7.5           0.500            0.36        6.1           \n",
       "2   Satisfactory 5.6           0.615            0.00        1.6           \n",
       "3   Satisfactory 8.9           0.620            0.18        3.8           \n",
       "⋮   ⋮            ⋮             ⋮                ⋮           ⋮             \n",
       "397 Satisfactory 6.8           0.67             0.15        1.8           \n",
       "398 Excellent    6.7           0.32             0.44        2.4           \n",
       "399 Satisfactory 6.0           0.31             0.47        3.6           \n",
       "    chlorides free.sulfur.dioxide total.sulfur.dioxide density pH   sulphates\n",
       "1   0.071     17                  102                  0.9978  3.35 0.80     \n",
       "2   0.089     16                   59                  0.9943  3.58 0.52     \n",
       "3   0.176     52                  145                  0.9986  3.16 0.88     \n",
       "⋮   ⋮         ⋮                   ⋮                    ⋮       ⋮    ⋮        \n",
       "397 0.118     13                  20                   0.99540 3.42 0.67     \n",
       "398 0.061     24                  34                   0.99484 3.29 0.80     \n",
       "399 0.067     18                  42                   0.99549 3.39 0.66     \n",
       "    alcohol quality     \n",
       "1   10.5    Satisfactory\n",
       "2    9.9    Satisfactory\n",
       "3    9.2    Satisfactory\n",
       "⋮   ⋮       ⋮           \n",
       "397 11.3    Satisfactory\n",
       "398 11.6    Excellent   \n",
       "399 11.0    Satisfactory"
      ]
     },
     "metadata": {},
     "output_type": "display_data"
    },
    {
     "data": {
      "text/html": [
       "<table>\n",
       "<caption>A tibble: 2 × 3</caption>\n",
       "<thead>\n",
       "\t<tr><th scope=col>.metric</th><th scope=col>.estimator</th><th scope=col>.estimate</th></tr>\n",
       "\t<tr><th scope=col>&lt;chr&gt;</th><th scope=col>&lt;chr&gt;</th><th scope=col>&lt;dbl&gt;</th></tr>\n",
       "</thead>\n",
       "<tbody>\n",
       "\t<tr><td>accuracy</td><td>multiclass</td><td>0.8345865</td></tr>\n",
       "\t<tr><td>kap     </td><td>multiclass</td><td>0.3700904</td></tr>\n",
       "</tbody>\n",
       "</table>\n"
      ],
      "text/latex": [
       "A tibble: 2 × 3\n",
       "\\begin{tabular}{lll}\n",
       " .metric & .estimator & .estimate\\\\\n",
       " <chr> & <chr> & <dbl>\\\\\n",
       "\\hline\n",
       "\t accuracy & multiclass & 0.8345865\\\\\n",
       "\t kap      & multiclass & 0.3700904\\\\\n",
       "\\end{tabular}\n"
      ],
      "text/markdown": [
       "\n",
       "A tibble: 2 × 3\n",
       "\n",
       "| .metric &lt;chr&gt; | .estimator &lt;chr&gt; | .estimate &lt;dbl&gt; |\n",
       "|---|---|---|\n",
       "| accuracy | multiclass | 0.8345865 |\n",
       "| kap      | multiclass | 0.3700904 |\n",
       "\n"
      ],
      "text/plain": [
       "  .metric  .estimator .estimate\n",
       "1 accuracy multiclass 0.8345865\n",
       "2 kap      multiclass 0.3700904"
      ]
     },
     "metadata": {},
     "output_type": "display_data"
    },
    {
     "data": {
      "text/plain": [
       "              Truth\n",
       "Prediction     Excellent Poor Satisfactory\n",
       "  Excellent           24    2           21\n",
       "  Poor                 0    2            2\n",
       "  Satisfactory        29   12          307"
      ]
     },
     "metadata": {},
     "output_type": "display_data"
    }
   ],
   "source": [
    "set.seed(1234)\n",
    "\n",
    "mnist_predictions <- predict(mnist_fit, red_wine_testing) %>%\n",
    "    bind_cols(red_wine_testing) \n",
    "mnist_predictions\n",
    "\n",
    "mnist_metrics <- mnist_predictions %>%\n",
    "    metrics(truth = quality, estimate = .pred_class) \n",
    "mnist_metrics\n",
    "\n",
    "mnist_conf_mat <- mnist_predictions %>%\n",
    "    conf_mat(truth = quality, estimate = .pred_class) \n",
    "mnist_conf_mat"
   ]
  },
  {
   "cell_type": "markdown",
   "metadata": {},
   "source": [
    "## Methods and Results\n",
    "\n",
    "We will conduct our data analysis using all variables because they all matter for red wine quality, and we want to know how to balance the variables for excellent quality. We will have quality as the prediction result. All factors, except quality, are collected using physicochemical tests. We will be creating a model that allows us to classify the wine's quality in three categories, given its other eleven properties. The three types are: \n",
    "\n",
    "- Excellent: score of 7 and 8\n",
    "- Satisfactory: score of 5 and 6\n",
    "- Poor: score of 3 and 4\n",
    "\n",
    "To conduct the analysis, we will first split our data into training  and testing data to avoid violating the golden rule. Next, we split the training data into validation sets for 10-fold cross-validation. By looking at multiple validation sets, we can find their average for our cross-validation accuracy. We tuned the K-nearest neighbors of our classification model to maximize our cross-validation accuracy estimates. We predicted the result of our model on the testing data and compared it to our true quality to see our model's accuracy. The data is visualized using a line graph that shows estimate accuracy vs. the K nearest neighbors to see how K affects our prediction accuracy."
   ]
  },
  {
   "cell_type": "markdown",
   "metadata": {},
   "source": [
    "## Discussion\n",
    "\n",
    "Using the cross-validation method, we found that the k-value of 13 computed a classifier with the highest accuracy, although accuracies of k-values were not significantly differnt than k = 1 as shown in the graph. We also found that our classifier was 84.7% accurate on the test data compared to 83.3% on the training data. It predicted 0 bad quality wines, 22 good quality wines and 316 statisfactory quality wines accurately, compared to predicting 16 bad quality wines, 31 good quality wines and 14 satisfactory quality wines inaccurately.\n",
    "\n",
    "We expected our model to have a bit higher accuracy than 84.7% as we used 11 chemcial properties as predictors in our classifer and scaled and centered them so that each variable had an equal effect on the classifier by making each predictor's mean equal to 0 and standard deviation equal to 1. We also tuned our classifier by performing cross-validation to choose a k-value that would help us maximize accuracy along with other measures taken. \n",
    "\n",
    "Our model helped classify quality of red wine depending on 11 factors: fixed quality, volatile acidity, citric acid, residual sugar, chlorides, free sulfur dioxide, total sulfur dioxide, pH, sulfates and alcohol. a wine label can use the model we have created to see which qualities and their quantities lead to a wine of a good quality and use that information to change their wine production. The wine labels can modify their product by changing its chemical properties accordingly to increase their sales as well as receive positive feedback from wine critics and customers which could help the label establish itself as a reputable brand. This model also brings a more analytical testing for wine in order to pass the certification phase by Portuguese law rather than relying on human wine testers.\n",
    "\n",
    "Some of the questions we can ask is if this model is accomodating towards different wine labels since we don't know the wine labels of the samples and we don't know if this sample was a good representative of all red wine from different brands. We can also  We can also ask if there are any other factors that can help us increase the accuracy of our tester such that eventually, there will be no need of human testers as we can rely complete on this analytical test for the quality of the wine dependent on its chemical properties as sometimes wine critics can be biased and simply rank a wine on the higher quality spectrum simply because of its label. We can also ask ourselves whether we can use similar models to assess other foods and drinks as well. \n"
   ]
  },
  {
   "cell_type": "markdown",
   "metadata": {},
   "source": [
    "## References\n",
    "\n",
    "Food and Agriculture Organization of the United Nations (FAOSTAT). (2019, October 9). Food and Agriculture Organization Agriculture Trade Domain Statistics. Retrieved from http://faostat.fao.org/site/535/DesktopDefault.aspx?PageID=535\n",
    "\n",
    "Rodrigo Alejandro Romo-Muñoz, Rodrigo Monje-Sanhueza, Héctor Garrido-Henríquez, José M Gil. (2020) Key market values for bottled wine in an emerging market: product attributes or business strategy?. Applied Economics 52:34, pages 3669-3679.\n",
    "\n",
    "Rodrigues, S., Otero, M., Alves, A., Coimbra, J., Coimbra, M., Pereira, E., & Duarte, A. (2011, January 18). Elemental analysis for categorization of wines and authentication of their certified brand of origin. Retrieved April 09, 2021, from https://www.sciencedirect.com/science/article/pii/S0889157511000184?casa_token=QhrKN4X-rToAAAAA%3Ann9L8HocNfoGCjcMHTcvbScsF4ZZ2VsT-xTyDHfv5fa--TZ7UMjhgxsANsfKHAwSApCvuTLe0g"
   ]
  }
 ],
 "metadata": {
  "kernelspec": {
   "display_name": "R",
   "language": "R",
   "name": "ir"
  },
  "language_info": {
   "codemirror_mode": "r",
   "file_extension": ".r",
   "mimetype": "text/x-r-source",
   "name": "R",
   "pygments_lexer": "r",
   "version": "4.0.0"
  }
 },
 "nbformat": 4,
 "nbformat_minor": 4
}
