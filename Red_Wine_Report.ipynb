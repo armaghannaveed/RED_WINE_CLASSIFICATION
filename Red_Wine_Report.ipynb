{
 "cells": [
  {
   "cell_type": "markdown",
   "metadata": {},
   "source": [
    "**INTRODUCTION:**\n",
    "\n",
    "The Wine Quality Dataset contains information about White Wine and Red Wine variants of Vinho Verde, Portugal. Portugal is a top ten wine exporting country which holds 3% of the market share (FAOSTAT, 2019). The Portuguese wine market is dominated by still wines, specifically red wine. (Romo-Muñoz, Monje-Sanhueza, Garrido-Henríquez, & Gil, 2020) Therefore, for our project we will be looking at the quality of red wine and the factors that create balance. \n",
    "\n",
    "A higher-quality wine has all of its components balanced, whereas a lower-quality wine has an element that stand out more than the rest. The question we are trying to answer is ****“Can we use the physicochemical properties of red wine to objectively predict whether the quality of a future unknown wine will be bad, satisfactory, or good?”****  We will be using a dataset collected from 1599 samples of the red variant of Vinho Verde. The dataset contains 12 elements: fixed quality, volatile acidity, citric acid, residual sugar, chlorides, free sulfur dioxide, total sulfur dioxide, pH, sulfates, alcohol, and quality. Our output variable is “quality” which the classification model would try to accurately predict. The quality score is measured on a scale from 0 (Bad) to 10 (Good). \n",
    "\n",
    "As seen, there is no data regarding the wine brand, grape types, fertilizers/insectides used or retail price due to policy and logistical issues. The original number of observations in each class are imbalanced with much more satisfactory wines than good or bad ones which is fairly understandable. The original research used a regression model to preserve the order of the wine scores and derive distinct accuracy results. \n",
    "\n",
    "Our goal is to create an efficient model capable of generating accurate predictions for red wine grown in Vinho Verde which could then be used to improve production efficiency and certification criterias. (Rodrigues et al., 2011)"
   ]
  },
  {
   "cell_type": "markdown",
   "metadata": {},
   "source": [
    "**REFERENCES:**\n",
    "Food and Agriculture Organization of the United Nations (FAOSTAT). (2019, October 9). Food and Agriculture Organization Agriculture Trade Domain Statistics. Retrieved from http://faostat.fao.org/site/535/DesktopDefault.aspx?PageID=535\n",
    "\n",
    "Rodrigo Alejandro Romo-Muñoz, Rodrigo Monje-Sanhueza, Héctor Garrido-Henríquez, José M Gil. (2020) Key market values for bottled wine in an emerging market: product attributes or business strategy?. Applied Economics 52:34, pages 3669-3679.\n",
    "\n",
    "Rodrigues, S., Otero, M., Alves, A., Coimbra, J., Coimbra, M., Pereira, E., & Duarte, A. (2011, January 18). Elemental analysis for categorization of wines and authentication of their certified brand of origin. Retrieved April 09, 2021, from https://www.sciencedirect.com/science/article/pii/S0889157511000184?casa_token=QhrKN4X-rToAAAAA%3Ann9L8HocNfoGCjcMHTcvbScsF4ZZ2VsT-xTyDHfv5fa--TZ7UMjhgxsANsfKHAwSApCvuTLe0g"
   ]
  },
  {
   "cell_type": "code",
   "execution_count": 1,
   "metadata": {},
   "outputs": [],
   "source": [
    "## Preliminary Exploratory Data Analysis"
   ]
  },
  {
   "cell_type": "code",
   "execution_count": 3,
   "metadata": {},
   "outputs": [
    {
     "name": "stderr",
     "output_type": "stream",
     "text": [
      "── \u001b[1mAttaching packages\u001b[22m ─────────────────────────────────────── tidyverse 1.3.0 ──\n",
      "\n",
      "\u001b[32m✔\u001b[39m \u001b[34mggplot2\u001b[39m 3.3.2     \u001b[32m✔\u001b[39m \u001b[34mpurrr  \u001b[39m 0.3.4\n",
      "\u001b[32m✔\u001b[39m \u001b[34mtibble \u001b[39m 3.0.3     \u001b[32m✔\u001b[39m \u001b[34mdplyr  \u001b[39m 1.0.2\n",
      "\u001b[32m✔\u001b[39m \u001b[34mtidyr  \u001b[39m 1.1.2     \u001b[32m✔\u001b[39m \u001b[34mstringr\u001b[39m 1.4.0\n",
      "\u001b[32m✔\u001b[39m \u001b[34mreadr  \u001b[39m 1.3.1     \u001b[32m✔\u001b[39m \u001b[34mforcats\u001b[39m 0.5.0\n",
      "\n",
      "Warning message:\n",
      "“package ‘ggplot2’ was built under R version 4.0.1”\n",
      "Warning message:\n",
      "“package ‘tibble’ was built under R version 4.0.2”\n",
      "Warning message:\n",
      "“package ‘tidyr’ was built under R version 4.0.2”\n",
      "Warning message:\n",
      "“package ‘dplyr’ was built under R version 4.0.2”\n",
      "── \u001b[1mConflicts\u001b[22m ────────────────────────────────────────── tidyverse_conflicts() ──\n",
      "\u001b[31m✖\u001b[39m \u001b[34mdplyr\u001b[39m::\u001b[32mfilter()\u001b[39m masks \u001b[34mstats\u001b[39m::filter()\n",
      "\u001b[31m✖\u001b[39m \u001b[34mdplyr\u001b[39m::\u001b[32mlag()\u001b[39m    masks \u001b[34mstats\u001b[39m::lag()\n",
      "\n",
      "Warning message:\n",
      "“package ‘tidymodels’ was built under R version 4.0.2”\n",
      "── \u001b[1mAttaching packages\u001b[22m ────────────────────────────────────── tidymodels 0.1.1 ──\n",
      "\n",
      "\u001b[32m✔\u001b[39m \u001b[34mbroom    \u001b[39m 0.7.0      \u001b[32m✔\u001b[39m \u001b[34mrecipes  \u001b[39m 0.1.13\n",
      "\u001b[32m✔\u001b[39m \u001b[34mdials    \u001b[39m 0.0.9      \u001b[32m✔\u001b[39m \u001b[34mrsample  \u001b[39m 0.0.7 \n",
      "\u001b[32m✔\u001b[39m \u001b[34minfer    \u001b[39m 0.5.4      \u001b[32m✔\u001b[39m \u001b[34mtune     \u001b[39m 0.1.1 \n",
      "\u001b[32m✔\u001b[39m \u001b[34mmodeldata\u001b[39m 0.0.2      \u001b[32m✔\u001b[39m \u001b[34mworkflows\u001b[39m 0.2.0 \n",
      "\u001b[32m✔\u001b[39m \u001b[34mparsnip  \u001b[39m 0.1.3      \u001b[32m✔\u001b[39m \u001b[34myardstick\u001b[39m 0.0.7 \n",
      "\n",
      "Warning message:\n",
      "“package ‘broom’ was built under R version 4.0.2”\n",
      "Warning message:\n",
      "“package ‘dials’ was built under R version 4.0.2”\n",
      "Warning message:\n",
      "“package ‘infer’ was built under R version 4.0.3”\n",
      "Warning message:\n",
      "“package ‘modeldata’ was built under R version 4.0.1”\n",
      "Warning message:\n",
      "“package ‘parsnip’ was built under R version 4.0.2”\n",
      "Warning message:\n",
      "“package ‘recipes’ was built under R version 4.0.1”\n",
      "Warning message:\n",
      "“package ‘tune’ was built under R version 4.0.2”\n",
      "Warning message:\n",
      "“package ‘workflows’ was built under R version 4.0.2”\n",
      "Warning message:\n",
      "“package ‘yardstick’ was built under R version 4.0.2”\n",
      "── \u001b[1mConflicts\u001b[22m ───────────────────────────────────────── tidymodels_conflicts() ──\n",
      "\u001b[31m✖\u001b[39m \u001b[34mscales\u001b[39m::\u001b[32mdiscard()\u001b[39m masks \u001b[34mpurrr\u001b[39m::discard()\n",
      "\u001b[31m✖\u001b[39m \u001b[34mdplyr\u001b[39m::\u001b[32mfilter()\u001b[39m   masks \u001b[34mstats\u001b[39m::filter()\n",
      "\u001b[31m✖\u001b[39m \u001b[34mrecipes\u001b[39m::\u001b[32mfixed()\u001b[39m  masks \u001b[34mstringr\u001b[39m::fixed()\n",
      "\u001b[31m✖\u001b[39m \u001b[34mdplyr\u001b[39m::\u001b[32mlag()\u001b[39m      masks \u001b[34mstats\u001b[39m::lag()\n",
      "\u001b[31m✖\u001b[39m \u001b[34myardstick\u001b[39m::\u001b[32mspec()\u001b[39m masks \u001b[34mreadr\u001b[39m::spec()\n",
      "\u001b[31m✖\u001b[39m \u001b[34mrecipes\u001b[39m::\u001b[32mstep()\u001b[39m   masks \u001b[34mstats\u001b[39m::step()\n",
      "\n"
     ]
    }
   ],
   "source": [
    "library(tidyverse)\n",
    "library(repr)\n",
    "library(tidymodels)\n",
    "options(repr.matrix.max.rows = 6)"
   ]
  },
  {
   "cell_type": "code",
   "execution_count": 5,
   "metadata": {},
   "outputs": [
    {
     "data": {
      "text/html": [
       "<table>\n",
       "<caption>A data.frame: 1599 × 12</caption>\n",
       "<thead>\n",
       "\t<tr><th scope=col>fixed.acidity</th><th scope=col>volatile.acidity</th><th scope=col>citric.acid</th><th scope=col>residual.sugar</th><th scope=col>chlorides</th><th scope=col>free.sulfur.dioxide</th><th scope=col>total.sulfur.dioxide</th><th scope=col>density</th><th scope=col>pH</th><th scope=col>sulphates</th><th scope=col>alcohol</th><th scope=col>quality</th></tr>\n",
       "\t<tr><th scope=col>&lt;chr&gt;</th><th scope=col>&lt;chr&gt;</th><th scope=col>&lt;chr&gt;</th><th scope=col>&lt;chr&gt;</th><th scope=col>&lt;chr&gt;</th><th scope=col>&lt;chr&gt;</th><th scope=col>&lt;chr&gt;</th><th scope=col>&lt;chr&gt;</th><th scope=col>&lt;chr&gt;</th><th scope=col>&lt;chr&gt;</th><th scope=col>&lt;chr&gt;</th><th scope=col>&lt;int&gt;</th></tr>\n",
       "</thead>\n",
       "<tbody>\n",
       "\t<tr><td>7.4</td><td>0.7 </td><td>0   </td><td>1.9</td><td>0.076</td><td>11</td><td>34</td><td>0.9978</td><td>3.51</td><td>0.56</td><td>9.4</td><td>5</td></tr>\n",
       "\t<tr><td>7.8</td><td>0.88</td><td>0   </td><td>2.6</td><td>0.098</td><td>25</td><td>67</td><td>0.9968</td><td>3.2 </td><td>0.68</td><td>9.8</td><td>5</td></tr>\n",
       "\t<tr><td>7.8</td><td>0.76</td><td>0.04</td><td>2.3</td><td>0.092</td><td>15</td><td>54</td><td>0.997 </td><td>3.26</td><td>0.65</td><td>9.8</td><td>5</td></tr>\n",
       "\t<tr><td>⋮</td><td>⋮</td><td>⋮</td><td>⋮</td><td>⋮</td><td>⋮</td><td>⋮</td><td>⋮</td><td>⋮</td><td>⋮</td><td>⋮</td><td>⋮</td></tr>\n",
       "\t<tr><td>6.3</td><td>0.51 </td><td>0.13</td><td>2.3</td><td>0.076</td><td>29</td><td>40</td><td>0.99574</td><td>3.42</td><td>0.75</td><td>11  </td><td>6</td></tr>\n",
       "\t<tr><td>5.9</td><td>0.645</td><td>0.12</td><td>2  </td><td>0.075</td><td>32</td><td>44</td><td>0.99547</td><td>3.57</td><td>0.71</td><td>10.2</td><td>5</td></tr>\n",
       "\t<tr><td>6  </td><td>0.31 </td><td>0.47</td><td>3.6</td><td>0.067</td><td>18</td><td>42</td><td>0.99549</td><td>3.39</td><td>0.66</td><td>11  </td><td>6</td></tr>\n",
       "</tbody>\n",
       "</table>\n"
      ],
      "text/latex": [
       "A data.frame: 1599 × 12\n",
       "\\begin{tabular}{llllllllllll}\n",
       " fixed.acidity & volatile.acidity & citric.acid & residual.sugar & chlorides & free.sulfur.dioxide & total.sulfur.dioxide & density & pH & sulphates & alcohol & quality\\\\\n",
       " <chr> & <chr> & <chr> & <chr> & <chr> & <chr> & <chr> & <chr> & <chr> & <chr> & <chr> & <int>\\\\\n",
       "\\hline\n",
       "\t 7.4 & 0.7  & 0    & 1.9 & 0.076 & 11 & 34 & 0.9978 & 3.51 & 0.56 & 9.4 & 5\\\\\n",
       "\t 7.8 & 0.88 & 0    & 2.6 & 0.098 & 25 & 67 & 0.9968 & 3.2  & 0.68 & 9.8 & 5\\\\\n",
       "\t 7.8 & 0.76 & 0.04 & 2.3 & 0.092 & 15 & 54 & 0.997  & 3.26 & 0.65 & 9.8 & 5\\\\\n",
       "\t ⋮ & ⋮ & ⋮ & ⋮ & ⋮ & ⋮ & ⋮ & ⋮ & ⋮ & ⋮ & ⋮ & ⋮\\\\\n",
       "\t 6.3 & 0.51  & 0.13 & 2.3 & 0.076 & 29 & 40 & 0.99574 & 3.42 & 0.75 & 11   & 6\\\\\n",
       "\t 5.9 & 0.645 & 0.12 & 2   & 0.075 & 32 & 44 & 0.99547 & 3.57 & 0.71 & 10.2 & 5\\\\\n",
       "\t 6   & 0.31  & 0.47 & 3.6 & 0.067 & 18 & 42 & 0.99549 & 3.39 & 0.66 & 11   & 6\\\\\n",
       "\\end{tabular}\n"
      ],
      "text/markdown": [
       "\n",
       "A data.frame: 1599 × 12\n",
       "\n",
       "| fixed.acidity &lt;chr&gt; | volatile.acidity &lt;chr&gt; | citric.acid &lt;chr&gt; | residual.sugar &lt;chr&gt; | chlorides &lt;chr&gt; | free.sulfur.dioxide &lt;chr&gt; | total.sulfur.dioxide &lt;chr&gt; | density &lt;chr&gt; | pH &lt;chr&gt; | sulphates &lt;chr&gt; | alcohol &lt;chr&gt; | quality &lt;int&gt; |\n",
       "|---|---|---|---|---|---|---|---|---|---|---|---|\n",
       "| 7.4 | 0.7  | 0    | 1.9 | 0.076 | 11 | 34 | 0.9978 | 3.51 | 0.56 | 9.4 | 5 |\n",
       "| 7.8 | 0.88 | 0    | 2.6 | 0.098 | 25 | 67 | 0.9968 | 3.2  | 0.68 | 9.8 | 5 |\n",
       "| 7.8 | 0.76 | 0.04 | 2.3 | 0.092 | 15 | 54 | 0.997  | 3.26 | 0.65 | 9.8 | 5 |\n",
       "| ⋮ | ⋮ | ⋮ | ⋮ | ⋮ | ⋮ | ⋮ | ⋮ | ⋮ | ⋮ | ⋮ | ⋮ |\n",
       "| 6.3 | 0.51  | 0.13 | 2.3 | 0.076 | 29 | 40 | 0.99574 | 3.42 | 0.75 | 11   | 6 |\n",
       "| 5.9 | 0.645 | 0.12 | 2   | 0.075 | 32 | 44 | 0.99547 | 3.57 | 0.71 | 10.2 | 5 |\n",
       "| 6   | 0.31  | 0.47 | 3.6 | 0.067 | 18 | 42 | 0.99549 | 3.39 | 0.66 | 11   | 6 |\n",
       "\n"
      ],
      "text/plain": [
       "     fixed.acidity volatile.acidity citric.acid residual.sugar chlorides\n",
       "1    7.4           0.7              0           1.9            0.076    \n",
       "2    7.8           0.88             0           2.6            0.098    \n",
       "3    7.8           0.76             0.04        2.3            0.092    \n",
       "⋮    ⋮             ⋮                ⋮           ⋮              ⋮        \n",
       "1597 6.3           0.51             0.13        2.3            0.076    \n",
       "1598 5.9           0.645            0.12        2              0.075    \n",
       "1599 6             0.31             0.47        3.6            0.067    \n",
       "     free.sulfur.dioxide total.sulfur.dioxide density pH   sulphates alcohol\n",
       "1    11                  34                   0.9978  3.51 0.56      9.4    \n",
       "2    25                  67                   0.9968  3.2  0.68      9.8    \n",
       "3    15                  54                   0.997   3.26 0.65      9.8    \n",
       "⋮    ⋮                   ⋮                    ⋮       ⋮    ⋮         ⋮      \n",
       "1597 29                  40                   0.99574 3.42 0.75      11     \n",
       "1598 32                  44                   0.99547 3.57 0.71      10.2   \n",
       "1599 18                  42                   0.99549 3.39 0.66      11     \n",
       "     quality\n",
       "1    5      \n",
       "2    5      \n",
       "3    5      \n",
       "⋮    ⋮      \n",
       "1597 6      \n",
       "1598 5      \n",
       "1599 6      "
      ]
     },
     "metadata": {},
     "output_type": "display_data"
    }
   ],
   "source": [
    "#read the dataset in Jupyter\n",
    "red_wine <- read.csv2(\"http://archive.ics.uci.edu/ml/machine-learning-databases/wine-quality/winequality-red.csv\")\n",
    "red_wine"
   ]
  },
  {
   "cell_type": "code",
   "execution_count": 6,
   "metadata": {},
   "outputs": [],
   "source": [
    "#make quality (originally ranked from 1-10) a categorical variable \n",
    "red_wine <- red_wine %>%\n",
    "    mutate(quality = case_when(quality == \"10\" ~ \"Excellent\",\n",
    "                              quality == \"9\" ~ \"Excellent\",\n",
    "                              quality == \"8\" ~ \"Good\",\n",
    "                              quality == \"7\" ~ \"Good\",\n",
    "                              quality == \"6\" ~ \"Satisfactory\",\n",
    "                              quality == \"5\" ~ \"Satisfactory\",\n",
    "                              quality == \"4\" ~ \"Bad\",\n",
    "                              quality == \"3\" ~ \"Bad\",\n",
    "                              quality == \"2\" ~ \"Poor\",\n",
    "                              quality == \"1\" ~ \"Poor\"))"
   ]
  },
  {
   "cell_type": "code",
   "execution_count": 31,
   "metadata": {},
   "outputs": [],
   "source": [
    "#we will be treating quality as a categorical variable, so we converted into a factor\n",
    "#we converted the rest of the variables into numerical variables\n",
    "red_wine <- red_wine %>% \n",
    "    mutate(fixed.acidity = as.numeric(fixed.acidity)) %>% \n",
    "    mutate(volatile.acidity = as.numeric(volatile.acidity)) %>% \n",
    "    mutate(citric.acid = as.numeric(citric.acid)) %>% \n",
    "    mutate(residual.sugar = as.numeric(residual.sugar)) %>% \n",
    "    mutate(chlorides = as.numeric(chlorides)) %>% \n",
    "    mutate(free.sulfur.dioxide = as.numeric(free.sulfur.dioxide)) %>% \n",
    "    mutate(total.sulfur.dioxide = as.numeric(total.sulfur.dioxide)) %>% \n",
    "    mutate(density = as.numeric(density)) %>% \n",
    "    mutate(pH = as.numeric(pH)) %>% \n",
    "    mutate(sulphates = as.numeric(sulphates)) %>% \n",
    "    mutate(alcohol = as.numeric(alcohol)) %>% \n",
    "    mutate(quality = as.factor(quality))"
   ]
  },
  {
   "cell_type": "code",
   "execution_count": 32,
   "metadata": {},
   "outputs": [
    {
     "data": {
      "text/html": [
       "<table>\n",
       "<caption>A data.frame: 217 × 12</caption>\n",
       "<thead>\n",
       "\t<tr><th scope=col>fixed.acidity</th><th scope=col>volatile.acidity</th><th scope=col>citric.acid</th><th scope=col>residual.sugar</th><th scope=col>chlorides</th><th scope=col>free.sulfur.dioxide</th><th scope=col>total.sulfur.dioxide</th><th scope=col>density</th><th scope=col>pH</th><th scope=col>sulphates</th><th scope=col>alcohol</th><th scope=col>quality</th></tr>\n",
       "\t<tr><th scope=col>&lt;dbl&gt;</th><th scope=col>&lt;dbl&gt;</th><th scope=col>&lt;dbl&gt;</th><th scope=col>&lt;dbl&gt;</th><th scope=col>&lt;dbl&gt;</th><th scope=col>&lt;dbl&gt;</th><th scope=col>&lt;dbl&gt;</th><th scope=col>&lt;dbl&gt;</th><th scope=col>&lt;dbl&gt;</th><th scope=col>&lt;dbl&gt;</th><th scope=col>&lt;dbl&gt;</th><th scope=col>&lt;fct&gt;</th></tr>\n",
       "</thead>\n",
       "<tbody>\n",
       "\t<tr><td>7.3</td><td>0.65</td><td>0.00</td><td>1.2</td><td>0.065</td><td>15</td><td> 21</td><td>0.9946</td><td>3.39</td><td>0.47</td><td>10.0</td><td>Good</td></tr>\n",
       "\t<tr><td>7.8</td><td>0.58</td><td>0.02</td><td>2.0</td><td>0.073</td><td> 9</td><td> 18</td><td>0.9968</td><td>3.36</td><td>0.57</td><td> 9.5</td><td>Good</td></tr>\n",
       "\t<tr><td>8.5</td><td>0.28</td><td>0.56</td><td>1.8</td><td>0.092</td><td>35</td><td>103</td><td>0.9969</td><td>3.30</td><td>0.75</td><td>10.5</td><td>Good</td></tr>\n",
       "\t<tr><td>⋮</td><td>⋮</td><td>⋮</td><td>⋮</td><td>⋮</td><td>⋮</td><td>⋮</td><td>⋮</td><td>⋮</td><td>⋮</td><td>⋮</td><td>⋮</td></tr>\n",
       "\t<tr><td>7.4</td><td>0.36</td><td>0.30</td><td>1.8</td><td>0.074</td><td>17</td><td>24</td><td>0.99419</td><td>3.24</td><td>0.70</td><td>11.40</td><td>Good</td></tr>\n",
       "\t<tr><td>7.0</td><td>0.56</td><td>0.17</td><td>1.7</td><td>0.065</td><td>15</td><td>24</td><td>0.99514</td><td>3.44</td><td>0.68</td><td>10.55</td><td>Good</td></tr>\n",
       "\t<tr><td>6.7</td><td>0.32</td><td>0.44</td><td>2.4</td><td>0.061</td><td>24</td><td>34</td><td>0.99484</td><td>3.29</td><td>0.80</td><td>11.60</td><td>Good</td></tr>\n",
       "</tbody>\n",
       "</table>\n"
      ],
      "text/latex": [
       "A data.frame: 217 × 12\n",
       "\\begin{tabular}{llllllllllll}\n",
       " fixed.acidity & volatile.acidity & citric.acid & residual.sugar & chlorides & free.sulfur.dioxide & total.sulfur.dioxide & density & pH & sulphates & alcohol & quality\\\\\n",
       " <dbl> & <dbl> & <dbl> & <dbl> & <dbl> & <dbl> & <dbl> & <dbl> & <dbl> & <dbl> & <dbl> & <fct>\\\\\n",
       "\\hline\n",
       "\t 7.3 & 0.65 & 0.00 & 1.2 & 0.065 & 15 &  21 & 0.9946 & 3.39 & 0.47 & 10.0 & Good\\\\\n",
       "\t 7.8 & 0.58 & 0.02 & 2.0 & 0.073 &  9 &  18 & 0.9968 & 3.36 & 0.57 &  9.5 & Good\\\\\n",
       "\t 8.5 & 0.28 & 0.56 & 1.8 & 0.092 & 35 & 103 & 0.9969 & 3.30 & 0.75 & 10.5 & Good\\\\\n",
       "\t ⋮ & ⋮ & ⋮ & ⋮ & ⋮ & ⋮ & ⋮ & ⋮ & ⋮ & ⋮ & ⋮ & ⋮\\\\\n",
       "\t 7.4 & 0.36 & 0.30 & 1.8 & 0.074 & 17 & 24 & 0.99419 & 3.24 & 0.70 & 11.40 & Good\\\\\n",
       "\t 7.0 & 0.56 & 0.17 & 1.7 & 0.065 & 15 & 24 & 0.99514 & 3.44 & 0.68 & 10.55 & Good\\\\\n",
       "\t 6.7 & 0.32 & 0.44 & 2.4 & 0.061 & 24 & 34 & 0.99484 & 3.29 & 0.80 & 11.60 & Good\\\\\n",
       "\\end{tabular}\n"
      ],
      "text/markdown": [
       "\n",
       "A data.frame: 217 × 12\n",
       "\n",
       "| fixed.acidity &lt;dbl&gt; | volatile.acidity &lt;dbl&gt; | citric.acid &lt;dbl&gt; | residual.sugar &lt;dbl&gt; | chlorides &lt;dbl&gt; | free.sulfur.dioxide &lt;dbl&gt; | total.sulfur.dioxide &lt;dbl&gt; | density &lt;dbl&gt; | pH &lt;dbl&gt; | sulphates &lt;dbl&gt; | alcohol &lt;dbl&gt; | quality &lt;fct&gt; |\n",
       "|---|---|---|---|---|---|---|---|---|---|---|---|\n",
       "| 7.3 | 0.65 | 0.00 | 1.2 | 0.065 | 15 |  21 | 0.9946 | 3.39 | 0.47 | 10.0 | Good |\n",
       "| 7.8 | 0.58 | 0.02 | 2.0 | 0.073 |  9 |  18 | 0.9968 | 3.36 | 0.57 |  9.5 | Good |\n",
       "| 8.5 | 0.28 | 0.56 | 1.8 | 0.092 | 35 | 103 | 0.9969 | 3.30 | 0.75 | 10.5 | Good |\n",
       "| ⋮ | ⋮ | ⋮ | ⋮ | ⋮ | ⋮ | ⋮ | ⋮ | ⋮ | ⋮ | ⋮ | ⋮ |\n",
       "| 7.4 | 0.36 | 0.30 | 1.8 | 0.074 | 17 | 24 | 0.99419 | 3.24 | 0.70 | 11.40 | Good |\n",
       "| 7.0 | 0.56 | 0.17 | 1.7 | 0.065 | 15 | 24 | 0.99514 | 3.44 | 0.68 | 10.55 | Good |\n",
       "| 6.7 | 0.32 | 0.44 | 2.4 | 0.061 | 24 | 34 | 0.99484 | 3.29 | 0.80 | 11.60 | Good |\n",
       "\n"
      ],
      "text/plain": [
       "    fixed.acidity volatile.acidity citric.acid residual.sugar chlorides\n",
       "1   7.3           0.65             0.00        1.2            0.065    \n",
       "2   7.8           0.58             0.02        2.0            0.073    \n",
       "3   8.5           0.28             0.56        1.8            0.092    \n",
       "⋮   ⋮             ⋮                ⋮           ⋮              ⋮        \n",
       "215 7.4           0.36             0.30        1.8            0.074    \n",
       "216 7.0           0.56             0.17        1.7            0.065    \n",
       "217 6.7           0.32             0.44        2.4            0.061    \n",
       "    free.sulfur.dioxide total.sulfur.dioxide density pH   sulphates alcohol\n",
       "1   15                   21                  0.9946  3.39 0.47      10.0   \n",
       "2    9                   18                  0.9968  3.36 0.57       9.5   \n",
       "3   35                  103                  0.9969  3.30 0.75      10.5   \n",
       "⋮   ⋮                   ⋮                    ⋮       ⋮    ⋮         ⋮      \n",
       "215 17                  24                   0.99419 3.24 0.70      11.40  \n",
       "216 15                  24                   0.99514 3.44 0.68      10.55  \n",
       "217 24                  34                   0.99484 3.29 0.80      11.60  \n",
       "    quality\n",
       "1   Good   \n",
       "2   Good   \n",
       "3   Good   \n",
       "⋮   ⋮      \n",
       "215 Good   \n",
       "216 Good   \n",
       "217 Good   "
      ]
     },
     "metadata": {},
     "output_type": "display_data"
    },
    {
     "data": {
      "text/html": [
       "<table>\n",
       "<caption>A data.frame: 1319 × 12</caption>\n",
       "<thead>\n",
       "\t<tr><th scope=col>fixed.acidity</th><th scope=col>volatile.acidity</th><th scope=col>citric.acid</th><th scope=col>residual.sugar</th><th scope=col>chlorides</th><th scope=col>free.sulfur.dioxide</th><th scope=col>total.sulfur.dioxide</th><th scope=col>density</th><th scope=col>pH</th><th scope=col>sulphates</th><th scope=col>alcohol</th><th scope=col>quality</th></tr>\n",
       "\t<tr><th scope=col>&lt;dbl&gt;</th><th scope=col>&lt;dbl&gt;</th><th scope=col>&lt;dbl&gt;</th><th scope=col>&lt;dbl&gt;</th><th scope=col>&lt;dbl&gt;</th><th scope=col>&lt;dbl&gt;</th><th scope=col>&lt;dbl&gt;</th><th scope=col>&lt;dbl&gt;</th><th scope=col>&lt;dbl&gt;</th><th scope=col>&lt;dbl&gt;</th><th scope=col>&lt;dbl&gt;</th><th scope=col>&lt;fct&gt;</th></tr>\n",
       "</thead>\n",
       "<tbody>\n",
       "\t<tr><td>7.4</td><td>0.70</td><td>0.00</td><td>1.9</td><td>0.076</td><td>11</td><td>34</td><td>0.9978</td><td>3.51</td><td>0.56</td><td>9.4</td><td>Satisfactory</td></tr>\n",
       "\t<tr><td>7.8</td><td>0.88</td><td>0.00</td><td>2.6</td><td>0.098</td><td>25</td><td>67</td><td>0.9968</td><td>3.20</td><td>0.68</td><td>9.8</td><td>Satisfactory</td></tr>\n",
       "\t<tr><td>7.8</td><td>0.76</td><td>0.04</td><td>2.3</td><td>0.092</td><td>15</td><td>54</td><td>0.9970</td><td>3.26</td><td>0.65</td><td>9.8</td><td>Satisfactory</td></tr>\n",
       "\t<tr><td>⋮</td><td>⋮</td><td>⋮</td><td>⋮</td><td>⋮</td><td>⋮</td><td>⋮</td><td>⋮</td><td>⋮</td><td>⋮</td><td>⋮</td><td>⋮</td></tr>\n",
       "\t<tr><td>6.3</td><td>0.510</td><td>0.13</td><td>2.3</td><td>0.076</td><td>29</td><td>40</td><td>0.99574</td><td>3.42</td><td>0.75</td><td>11.0</td><td>Satisfactory</td></tr>\n",
       "\t<tr><td>5.9</td><td>0.645</td><td>0.12</td><td>2.0</td><td>0.075</td><td>32</td><td>44</td><td>0.99547</td><td>3.57</td><td>0.71</td><td>10.2</td><td>Satisfactory</td></tr>\n",
       "\t<tr><td>6.0</td><td>0.310</td><td>0.47</td><td>3.6</td><td>0.067</td><td>18</td><td>42</td><td>0.99549</td><td>3.39</td><td>0.66</td><td>11.0</td><td>Satisfactory</td></tr>\n",
       "</tbody>\n",
       "</table>\n"
      ],
      "text/latex": [
       "A data.frame: 1319 × 12\n",
       "\\begin{tabular}{llllllllllll}\n",
       " fixed.acidity & volatile.acidity & citric.acid & residual.sugar & chlorides & free.sulfur.dioxide & total.sulfur.dioxide & density & pH & sulphates & alcohol & quality\\\\\n",
       " <dbl> & <dbl> & <dbl> & <dbl> & <dbl> & <dbl> & <dbl> & <dbl> & <dbl> & <dbl> & <dbl> & <fct>\\\\\n",
       "\\hline\n",
       "\t 7.4 & 0.70 & 0.00 & 1.9 & 0.076 & 11 & 34 & 0.9978 & 3.51 & 0.56 & 9.4 & Satisfactory\\\\\n",
       "\t 7.8 & 0.88 & 0.00 & 2.6 & 0.098 & 25 & 67 & 0.9968 & 3.20 & 0.68 & 9.8 & Satisfactory\\\\\n",
       "\t 7.8 & 0.76 & 0.04 & 2.3 & 0.092 & 15 & 54 & 0.9970 & 3.26 & 0.65 & 9.8 & Satisfactory\\\\\n",
       "\t ⋮ & ⋮ & ⋮ & ⋮ & ⋮ & ⋮ & ⋮ & ⋮ & ⋮ & ⋮ & ⋮ & ⋮\\\\\n",
       "\t 6.3 & 0.510 & 0.13 & 2.3 & 0.076 & 29 & 40 & 0.99574 & 3.42 & 0.75 & 11.0 & Satisfactory\\\\\n",
       "\t 5.9 & 0.645 & 0.12 & 2.0 & 0.075 & 32 & 44 & 0.99547 & 3.57 & 0.71 & 10.2 & Satisfactory\\\\\n",
       "\t 6.0 & 0.310 & 0.47 & 3.6 & 0.067 & 18 & 42 & 0.99549 & 3.39 & 0.66 & 11.0 & Satisfactory\\\\\n",
       "\\end{tabular}\n"
      ],
      "text/markdown": [
       "\n",
       "A data.frame: 1319 × 12\n",
       "\n",
       "| fixed.acidity &lt;dbl&gt; | volatile.acidity &lt;dbl&gt; | citric.acid &lt;dbl&gt; | residual.sugar &lt;dbl&gt; | chlorides &lt;dbl&gt; | free.sulfur.dioxide &lt;dbl&gt; | total.sulfur.dioxide &lt;dbl&gt; | density &lt;dbl&gt; | pH &lt;dbl&gt; | sulphates &lt;dbl&gt; | alcohol &lt;dbl&gt; | quality &lt;fct&gt; |\n",
       "|---|---|---|---|---|---|---|---|---|---|---|---|\n",
       "| 7.4 | 0.70 | 0.00 | 1.9 | 0.076 | 11 | 34 | 0.9978 | 3.51 | 0.56 | 9.4 | Satisfactory |\n",
       "| 7.8 | 0.88 | 0.00 | 2.6 | 0.098 | 25 | 67 | 0.9968 | 3.20 | 0.68 | 9.8 | Satisfactory |\n",
       "| 7.8 | 0.76 | 0.04 | 2.3 | 0.092 | 15 | 54 | 0.9970 | 3.26 | 0.65 | 9.8 | Satisfactory |\n",
       "| ⋮ | ⋮ | ⋮ | ⋮ | ⋮ | ⋮ | ⋮ | ⋮ | ⋮ | ⋮ | ⋮ | ⋮ |\n",
       "| 6.3 | 0.510 | 0.13 | 2.3 | 0.076 | 29 | 40 | 0.99574 | 3.42 | 0.75 | 11.0 | Satisfactory |\n",
       "| 5.9 | 0.645 | 0.12 | 2.0 | 0.075 | 32 | 44 | 0.99547 | 3.57 | 0.71 | 10.2 | Satisfactory |\n",
       "| 6.0 | 0.310 | 0.47 | 3.6 | 0.067 | 18 | 42 | 0.99549 | 3.39 | 0.66 | 11.0 | Satisfactory |\n",
       "\n"
      ],
      "text/plain": [
       "     fixed.acidity volatile.acidity citric.acid residual.sugar chlorides\n",
       "1    7.4           0.70             0.00        1.9            0.076    \n",
       "2    7.8           0.88             0.00        2.6            0.098    \n",
       "3    7.8           0.76             0.04        2.3            0.092    \n",
       "⋮    ⋮             ⋮                ⋮           ⋮              ⋮        \n",
       "1317 6.3           0.510            0.13        2.3            0.076    \n",
       "1318 5.9           0.645            0.12        2.0            0.075    \n",
       "1319 6.0           0.310            0.47        3.6            0.067    \n",
       "     free.sulfur.dioxide total.sulfur.dioxide density pH   sulphates alcohol\n",
       "1    11                  34                   0.9978  3.51 0.56      9.4    \n",
       "2    25                  67                   0.9968  3.20 0.68      9.8    \n",
       "3    15                  54                   0.9970  3.26 0.65      9.8    \n",
       "⋮    ⋮                   ⋮                    ⋮       ⋮    ⋮         ⋮      \n",
       "1317 29                  40                   0.99574 3.42 0.75      11.0   \n",
       "1318 32                  44                   0.99547 3.57 0.71      10.2   \n",
       "1319 18                  42                   0.99549 3.39 0.66      11.0   \n",
       "     quality     \n",
       "1    Satisfactory\n",
       "2    Satisfactory\n",
       "3    Satisfactory\n",
       "⋮    ⋮           \n",
       "1317 Satisfactory\n",
       "1318 Satisfactory\n",
       "1319 Satisfactory"
      ]
     },
     "metadata": {},
     "output_type": "display_data"
    },
    {
     "data": {
      "text/html": [
       "<table>\n",
       "<caption>A data.frame: 63 × 12</caption>\n",
       "<thead>\n",
       "\t<tr><th scope=col>fixed.acidity</th><th scope=col>volatile.acidity</th><th scope=col>citric.acid</th><th scope=col>residual.sugar</th><th scope=col>chlorides</th><th scope=col>free.sulfur.dioxide</th><th scope=col>total.sulfur.dioxide</th><th scope=col>density</th><th scope=col>pH</th><th scope=col>sulphates</th><th scope=col>alcohol</th><th scope=col>quality</th></tr>\n",
       "\t<tr><th scope=col>&lt;dbl&gt;</th><th scope=col>&lt;dbl&gt;</th><th scope=col>&lt;dbl&gt;</th><th scope=col>&lt;dbl&gt;</th><th scope=col>&lt;dbl&gt;</th><th scope=col>&lt;dbl&gt;</th><th scope=col>&lt;dbl&gt;</th><th scope=col>&lt;dbl&gt;</th><th scope=col>&lt;dbl&gt;</th><th scope=col>&lt;dbl&gt;</th><th scope=col>&lt;dbl&gt;</th><th scope=col>&lt;fct&gt;</th></tr>\n",
       "</thead>\n",
       "<tbody>\n",
       "\t<tr><td>7.4</td><td>0.59</td><td>0.08</td><td>4.4</td><td>0.086</td><td> 6</td><td>29</td><td>0.9974</td><td>3.38</td><td>0.50</td><td>9.0</td><td>Bad</td></tr>\n",
       "\t<tr><td>5.7</td><td>1.13</td><td>0.09</td><td>1.5</td><td>0.172</td><td> 7</td><td>19</td><td>0.9940</td><td>3.50</td><td>0.48</td><td>9.8</td><td>Bad</td></tr>\n",
       "\t<tr><td>8.8</td><td>0.61</td><td>0.30</td><td>2.8</td><td>0.088</td><td>17</td><td>46</td><td>0.9976</td><td>3.26</td><td>0.51</td><td>9.3</td><td>Bad</td></tr>\n",
       "\t<tr><td>⋮</td><td>⋮</td><td>⋮</td><td>⋮</td><td>⋮</td><td>⋮</td><td>⋮</td><td>⋮</td><td>⋮</td><td>⋮</td><td>⋮</td><td>⋮</td></tr>\n",
       "\t<tr><td>6.8</td><td>0.91</td><td>0.06</td><td>2.0</td><td>0.060</td><td>4</td><td>11</td><td>0.99592</td><td>3.53</td><td>0.64</td><td>10.90</td><td>Bad</td></tr>\n",
       "\t<tr><td>6.7</td><td>0.76</td><td>0.02</td><td>1.8</td><td>0.078</td><td>6</td><td>12</td><td>0.99600</td><td>3.55</td><td>0.63</td><td> 9.95</td><td>Bad</td></tr>\n",
       "\t<tr><td>6.9</td><td>0.48</td><td>0.20</td><td>1.9</td><td>0.082</td><td>9</td><td>23</td><td>0.99585</td><td>3.39</td><td>0.43</td><td> 9.05</td><td>Bad</td></tr>\n",
       "</tbody>\n",
       "</table>\n"
      ],
      "text/latex": [
       "A data.frame: 63 × 12\n",
       "\\begin{tabular}{llllllllllll}\n",
       " fixed.acidity & volatile.acidity & citric.acid & residual.sugar & chlorides & free.sulfur.dioxide & total.sulfur.dioxide & density & pH & sulphates & alcohol & quality\\\\\n",
       " <dbl> & <dbl> & <dbl> & <dbl> & <dbl> & <dbl> & <dbl> & <dbl> & <dbl> & <dbl> & <dbl> & <fct>\\\\\n",
       "\\hline\n",
       "\t 7.4 & 0.59 & 0.08 & 4.4 & 0.086 &  6 & 29 & 0.9974 & 3.38 & 0.50 & 9.0 & Bad\\\\\n",
       "\t 5.7 & 1.13 & 0.09 & 1.5 & 0.172 &  7 & 19 & 0.9940 & 3.50 & 0.48 & 9.8 & Bad\\\\\n",
       "\t 8.8 & 0.61 & 0.30 & 2.8 & 0.088 & 17 & 46 & 0.9976 & 3.26 & 0.51 & 9.3 & Bad\\\\\n",
       "\t ⋮ & ⋮ & ⋮ & ⋮ & ⋮ & ⋮ & ⋮ & ⋮ & ⋮ & ⋮ & ⋮ & ⋮\\\\\n",
       "\t 6.8 & 0.91 & 0.06 & 2.0 & 0.060 & 4 & 11 & 0.99592 & 3.53 & 0.64 & 10.90 & Bad\\\\\n",
       "\t 6.7 & 0.76 & 0.02 & 1.8 & 0.078 & 6 & 12 & 0.99600 & 3.55 & 0.63 &  9.95 & Bad\\\\\n",
       "\t 6.9 & 0.48 & 0.20 & 1.9 & 0.082 & 9 & 23 & 0.99585 & 3.39 & 0.43 &  9.05 & Bad\\\\\n",
       "\\end{tabular}\n"
      ],
      "text/markdown": [
       "\n",
       "A data.frame: 63 × 12\n",
       "\n",
       "| fixed.acidity &lt;dbl&gt; | volatile.acidity &lt;dbl&gt; | citric.acid &lt;dbl&gt; | residual.sugar &lt;dbl&gt; | chlorides &lt;dbl&gt; | free.sulfur.dioxide &lt;dbl&gt; | total.sulfur.dioxide &lt;dbl&gt; | density &lt;dbl&gt; | pH &lt;dbl&gt; | sulphates &lt;dbl&gt; | alcohol &lt;dbl&gt; | quality &lt;fct&gt; |\n",
       "|---|---|---|---|---|---|---|---|---|---|---|---|\n",
       "| 7.4 | 0.59 | 0.08 | 4.4 | 0.086 |  6 | 29 | 0.9974 | 3.38 | 0.50 | 9.0 | Bad |\n",
       "| 5.7 | 1.13 | 0.09 | 1.5 | 0.172 |  7 | 19 | 0.9940 | 3.50 | 0.48 | 9.8 | Bad |\n",
       "| 8.8 | 0.61 | 0.30 | 2.8 | 0.088 | 17 | 46 | 0.9976 | 3.26 | 0.51 | 9.3 | Bad |\n",
       "| ⋮ | ⋮ | ⋮ | ⋮ | ⋮ | ⋮ | ⋮ | ⋮ | ⋮ | ⋮ | ⋮ | ⋮ |\n",
       "| 6.8 | 0.91 | 0.06 | 2.0 | 0.060 | 4 | 11 | 0.99592 | 3.53 | 0.64 | 10.90 | Bad |\n",
       "| 6.7 | 0.76 | 0.02 | 1.8 | 0.078 | 6 | 12 | 0.99600 | 3.55 | 0.63 |  9.95 | Bad |\n",
       "| 6.9 | 0.48 | 0.20 | 1.9 | 0.082 | 9 | 23 | 0.99585 | 3.39 | 0.43 |  9.05 | Bad |\n",
       "\n"
      ],
      "text/plain": [
       "   fixed.acidity volatile.acidity citric.acid residual.sugar chlorides\n",
       "1  7.4           0.59             0.08        4.4            0.086    \n",
       "2  5.7           1.13             0.09        1.5            0.172    \n",
       "3  8.8           0.61             0.30        2.8            0.088    \n",
       "⋮  ⋮             ⋮                ⋮           ⋮              ⋮        \n",
       "61 6.8           0.91             0.06        2.0            0.060    \n",
       "62 6.7           0.76             0.02        1.8            0.078    \n",
       "63 6.9           0.48             0.20        1.9            0.082    \n",
       "   free.sulfur.dioxide total.sulfur.dioxide density pH   sulphates alcohol\n",
       "1   6                  29                   0.9974  3.38 0.50      9.0    \n",
       "2   7                  19                   0.9940  3.50 0.48      9.8    \n",
       "3  17                  46                   0.9976  3.26 0.51      9.3    \n",
       "⋮  ⋮                   ⋮                    ⋮       ⋮    ⋮         ⋮      \n",
       "61 4                   11                   0.99592 3.53 0.64      10.90  \n",
       "62 6                   12                   0.99600 3.55 0.63       9.95  \n",
       "63 9                   23                   0.99585 3.39 0.43       9.05  \n",
       "   quality\n",
       "1  Bad    \n",
       "2  Bad    \n",
       "3  Bad    \n",
       "⋮  ⋮      \n",
       "61 Bad    \n",
       "62 Bad    \n",
       "63 Bad    "
      ]
     },
     "metadata": {},
     "output_type": "display_data"
    }
   ],
   "source": [
    "#create a filtered dataset by quality for each classification\n",
    "#note that red_wine has no inputs for \"Excellent\" and \"Poor\"\n",
    "good_class <- red_wine %>% \n",
    "    filter(quality == \"Good\")\n",
    "good_class\n",
    "\n",
    "satisfactory_class <- red_wine %>% \n",
    "    filter(quality == \"Satisfactory\")\n",
    "satisfactory_class\n",
    "\n",
    "bad_class <- red_wine %>% \n",
    "    filter(quality == \"Bad\")\n",
    "bad_class"
   ]
  },
  {
   "cell_type": "code",
   "execution_count": 33,
   "metadata": {},
   "outputs": [
    {
     "name": "stdout",
     "output_type": "stream",
     "text": [
      "[1] 217\n",
      "[1] 1319\n",
      "[1] 63\n"
     ]
    }
   ],
   "source": [
    "#print the number of good, satisfactory, and bad classifications from the dataset\n",
    "good_class_rows <- nrow(good_class)\n",
    "print(good_class_rows)\n",
    "\n",
    "satisfactory_class_rows <- nrow(satisfactory_class)\n",
    "print(satisfactory_class_rows)\n",
    "\n",
    "bad_class_rows <- nrow(bad_class)\n",
    "print(bad_class_rows)"
   ]
  },
  {
   "cell_type": "code",
   "execution_count": 34,
   "metadata": {},
   "outputs": [
    {
     "data": {
      "image/png": "[encoded data removed]",
      "text/plain": [
       "plot without title"
      ]
     },
     "metadata": {
      "image/png": {
       "height": 480,
       "width": 720
      }
     },
     "output_type": "display_data"
    }
   ],
   "source": [
    "#create a bar graph to compare the amount of observations within each quality classification\n",
    "options(repr.plot.width = 12, repr.plot.height = 8)\n",
    "quality_distribution <- red_wine %>% \n",
    "    ggplot(aes(x = quality, fill = quality)) +\n",
    "    geom_bar() +\n",
    "    labs(x = \"Red Wine Quality Classification\", y = \"Number of Observations\", fill = \"Wine Classification\") +\n",
    "    ggtitle(\"Distribution of Red Wine Quality\") +\n",
    "    theme(text = element_text(size = 20))\n",
    "quality_distribution"
   ]
  },
  {
   "cell_type": "code",
   "execution_count": 35,
   "metadata": {},
   "outputs": [],
   "source": [
    "## New Added Code"
   ]
  },
  {
   "cell_type": "code",
   "execution_count": 36,
   "metadata": {},
   "outputs": [
    {
     "data": {
      "text/html": [
       "<table>\n",
       "<caption>A data.frame: 1599 × 12</caption>\n",
       "<thead>\n",
       "\t<tr><th scope=col>fixed.acidity</th><th scope=col>volatile.acidity</th><th scope=col>citric.acid</th><th scope=col>residual.sugar</th><th scope=col>chlorides</th><th scope=col>free.sulfur.dioxide</th><th scope=col>total.sulfur.dioxide</th><th scope=col>density</th><th scope=col>pH</th><th scope=col>sulphates</th><th scope=col>alcohol</th><th scope=col>quality</th></tr>\n",
       "\t<tr><th scope=col>&lt;dbl&gt;</th><th scope=col>&lt;dbl&gt;</th><th scope=col>&lt;dbl&gt;</th><th scope=col>&lt;dbl&gt;</th><th scope=col>&lt;dbl&gt;</th><th scope=col>&lt;dbl&gt;</th><th scope=col>&lt;dbl&gt;</th><th scope=col>&lt;dbl&gt;</th><th scope=col>&lt;dbl&gt;</th><th scope=col>&lt;dbl&gt;</th><th scope=col>&lt;dbl&gt;</th><th scope=col>&lt;fct&gt;</th></tr>\n",
       "</thead>\n",
       "<tbody>\n",
       "\t<tr><td>7.4</td><td>0.70</td><td>0.00</td><td>1.9</td><td>0.076</td><td>11</td><td>34</td><td>0.9978</td><td>3.51</td><td>0.56</td><td>9.4</td><td>Satisfactory</td></tr>\n",
       "\t<tr><td>7.8</td><td>0.88</td><td>0.00</td><td>2.6</td><td>0.098</td><td>25</td><td>67</td><td>0.9968</td><td>3.20</td><td>0.68</td><td>9.8</td><td>Satisfactory</td></tr>\n",
       "\t<tr><td>7.8</td><td>0.76</td><td>0.04</td><td>2.3</td><td>0.092</td><td>15</td><td>54</td><td>0.9970</td><td>3.26</td><td>0.65</td><td>9.8</td><td>Satisfactory</td></tr>\n",
       "\t<tr><td>⋮</td><td>⋮</td><td>⋮</td><td>⋮</td><td>⋮</td><td>⋮</td><td>⋮</td><td>⋮</td><td>⋮</td><td>⋮</td><td>⋮</td><td>⋮</td></tr>\n",
       "\t<tr><td>6.3</td><td>0.510</td><td>0.13</td><td>2.3</td><td>0.076</td><td>29</td><td>40</td><td>0.99574</td><td>3.42</td><td>0.75</td><td>11.0</td><td>Satisfactory</td></tr>\n",
       "\t<tr><td>5.9</td><td>0.645</td><td>0.12</td><td>2.0</td><td>0.075</td><td>32</td><td>44</td><td>0.99547</td><td>3.57</td><td>0.71</td><td>10.2</td><td>Satisfactory</td></tr>\n",
       "\t<tr><td>6.0</td><td>0.310</td><td>0.47</td><td>3.6</td><td>0.067</td><td>18</td><td>42</td><td>0.99549</td><td>3.39</td><td>0.66</td><td>11.0</td><td>Satisfactory</td></tr>\n",
       "</tbody>\n",
       "</table>\n"
      ],
      "text/latex": [
       "A data.frame: 1599 × 12\n",
       "\\begin{tabular}{llllllllllll}\n",
       " fixed.acidity & volatile.acidity & citric.acid & residual.sugar & chlorides & free.sulfur.dioxide & total.sulfur.dioxide & density & pH & sulphates & alcohol & quality\\\\\n",
       " <dbl> & <dbl> & <dbl> & <dbl> & <dbl> & <dbl> & <dbl> & <dbl> & <dbl> & <dbl> & <dbl> & <fct>\\\\\n",
       "\\hline\n",
       "\t 7.4 & 0.70 & 0.00 & 1.9 & 0.076 & 11 & 34 & 0.9978 & 3.51 & 0.56 & 9.4 & Satisfactory\\\\\n",
       "\t 7.8 & 0.88 & 0.00 & 2.6 & 0.098 & 25 & 67 & 0.9968 & 3.20 & 0.68 & 9.8 & Satisfactory\\\\\n",
       "\t 7.8 & 0.76 & 0.04 & 2.3 & 0.092 & 15 & 54 & 0.9970 & 3.26 & 0.65 & 9.8 & Satisfactory\\\\\n",
       "\t ⋮ & ⋮ & ⋮ & ⋮ & ⋮ & ⋮ & ⋮ & ⋮ & ⋮ & ⋮ & ⋮ & ⋮\\\\\n",
       "\t 6.3 & 0.510 & 0.13 & 2.3 & 0.076 & 29 & 40 & 0.99574 & 3.42 & 0.75 & 11.0 & Satisfactory\\\\\n",
       "\t 5.9 & 0.645 & 0.12 & 2.0 & 0.075 & 32 & 44 & 0.99547 & 3.57 & 0.71 & 10.2 & Satisfactory\\\\\n",
       "\t 6.0 & 0.310 & 0.47 & 3.6 & 0.067 & 18 & 42 & 0.99549 & 3.39 & 0.66 & 11.0 & Satisfactory\\\\\n",
       "\\end{tabular}\n"
      ],
      "text/markdown": [
       "\n",
       "A data.frame: 1599 × 12\n",
       "\n",
       "| fixed.acidity &lt;dbl&gt; | volatile.acidity &lt;dbl&gt; | citric.acid &lt;dbl&gt; | residual.sugar &lt;dbl&gt; | chlorides &lt;dbl&gt; | free.sulfur.dioxide &lt;dbl&gt; | total.sulfur.dioxide &lt;dbl&gt; | density &lt;dbl&gt; | pH &lt;dbl&gt; | sulphates &lt;dbl&gt; | alcohol &lt;dbl&gt; | quality &lt;fct&gt; |\n",
       "|---|---|---|---|---|---|---|---|---|---|---|---|\n",
       "| 7.4 | 0.70 | 0.00 | 1.9 | 0.076 | 11 | 34 | 0.9978 | 3.51 | 0.56 | 9.4 | Satisfactory |\n",
       "| 7.8 | 0.88 | 0.00 | 2.6 | 0.098 | 25 | 67 | 0.9968 | 3.20 | 0.68 | 9.8 | Satisfactory |\n",
       "| 7.8 | 0.76 | 0.04 | 2.3 | 0.092 | 15 | 54 | 0.9970 | 3.26 | 0.65 | 9.8 | Satisfactory |\n",
       "| ⋮ | ⋮ | ⋮ | ⋮ | ⋮ | ⋮ | ⋮ | ⋮ | ⋮ | ⋮ | ⋮ | ⋮ |\n",
       "| 6.3 | 0.510 | 0.13 | 2.3 | 0.076 | 29 | 40 | 0.99574 | 3.42 | 0.75 | 11.0 | Satisfactory |\n",
       "| 5.9 | 0.645 | 0.12 | 2.0 | 0.075 | 32 | 44 | 0.99547 | 3.57 | 0.71 | 10.2 | Satisfactory |\n",
       "| 6.0 | 0.310 | 0.47 | 3.6 | 0.067 | 18 | 42 | 0.99549 | 3.39 | 0.66 | 11.0 | Satisfactory |\n",
       "\n"
      ],
      "text/plain": [
       "     fixed.acidity volatile.acidity citric.acid residual.sugar chlorides\n",
       "1    7.4           0.70             0.00        1.9            0.076    \n",
       "2    7.8           0.88             0.00        2.6            0.098    \n",
       "3    7.8           0.76             0.04        2.3            0.092    \n",
       "⋮    ⋮             ⋮                ⋮           ⋮              ⋮        \n",
       "1597 6.3           0.510            0.13        2.3            0.076    \n",
       "1598 5.9           0.645            0.12        2.0            0.075    \n",
       "1599 6.0           0.310            0.47        3.6            0.067    \n",
       "     free.sulfur.dioxide total.sulfur.dioxide density pH   sulphates alcohol\n",
       "1    11                  34                   0.9978  3.51 0.56      9.4    \n",
       "2    25                  67                   0.9968  3.20 0.68      9.8    \n",
       "3    15                  54                   0.9970  3.26 0.65      9.8    \n",
       "⋮    ⋮                   ⋮                    ⋮       ⋮    ⋮         ⋮      \n",
       "1597 29                  40                   0.99574 3.42 0.75      11.0   \n",
       "1598 32                  44                   0.99547 3.57 0.71      10.2   \n",
       "1599 18                  42                   0.99549 3.39 0.66      11.0   \n",
       "     quality     \n",
       "1    Satisfactory\n",
       "2    Satisfactory\n",
       "3    Satisfactory\n",
       "⋮    ⋮           \n",
       "1597 Satisfactory\n",
       "1598 Satisfactory\n",
       "1599 Satisfactory"
      ]
     },
     "metadata": {},
     "output_type": "display_data"
    }
   ],
   "source": [
    "red_wine"
   ]
  },
  {
   "cell_type": "code",
   "execution_count": 37,
   "metadata": {},
   "outputs": [
    {
     "data": {
      "text/html": [
       "0"
      ],
      "text/latex": [
       "0"
      ],
      "text/markdown": [
       "0"
      ],
      "text/plain": [
       "[1] 0"
      ]
     },
     "metadata": {},
     "output_type": "display_data"
    }
   ],
   "source": [
    "na_number<-sum(is.na(red_wine))\n",
    "na_number"
   ]
  },
  {
   "cell_type": "code",
   "execution_count": 38,
   "metadata": {},
   "outputs": [],
   "source": [
    "## Cross Validation "
   ]
  },
  {
   "cell_type": "code",
   "execution_count": 39,
   "metadata": {},
   "outputs": [],
   "source": [
    "# split the data\n",
    "set.seed(1234)\n",
    "red_wine_split <- initial_split(red_wine, prop = 0.75, strata = quality)\n",
    "red_wine_training <- training(red_wine_split)\n",
    "red_wine_testing <- testing(red_wine_split)"
   ]
  },
  {
   "cell_type": "code",
   "execution_count": 47,
   "metadata": {},
   "outputs": [
    {
     "data": {
      "image/png": "[encoded data removed]",
      "text/plain": [
       "plot without title"
      ]
     },
     "metadata": {
      "image/png": {
       "height": 480,
       "width": 720
      }
     },
     "output_type": "display_data"
    }
   ],
   "source": [
    "# tune to get the highest k\n",
    "set.seed(1234)\n",
    "recipe <- recipe(quality ~ . , data = red_wine_training)%>%\n",
    "  step_center(all_predictors()) %>%\n",
    "  step_scale(all_predictors())\n",
    "vfold <- vfold_cv(red_wine_training, v = 10, strata = quality)\n",
    "knn_tune <- nearest_neighbor(weight_func = \"rectangular\", neighbors = tune()) %>%\n",
    "      set_engine(\"kknn\") %>%\n",
    "      set_mode(\"classification\")\n",
    "knn_results <- workflow() %>%\n",
    "      add_recipe(recipe) %>%\n",
    "      add_model(knn_tune) %>%\n",
    "      tune_grid(resamples = vfold, grid = 20) %>%\n",
    "      collect_metrics()\n",
    "accuracies <- knn_results %>% \n",
    "      filter(.metric == \"accuracy\")\n",
    "cross_val_plot <- ggplot(accuracies, aes(x = neighbors, y = mean))+\n",
    "      geom_point() +\n",
    "      geom_line() +\n",
    "      labs(x = \"Neighbors\", y = \"Accuracy Estimate\") +\n",
    "      scale_x_continuous(breaks = seq(0, 14, by = 1)) +  # adjusting the x-axis\n",
    "      scale_y_continuous(limits = c(0.4, 1.0)) # adjusting the y-axis\n",
    "cross_val_plot"
   ]
  },
  {
   "cell_type": "code",
   "execution_count": 48,
   "metadata": {},
   "outputs": [
    {
     "data": {
      "text/html": [
       "<table>\n",
       "<caption>A tibble: 1 × 7</caption>\n",
       "<thead>\n",
       "\t<tr><th scope=col>neighbors</th><th scope=col>.metric</th><th scope=col>.estimator</th><th scope=col>mean</th><th scope=col>n</th><th scope=col>std_err</th><th scope=col>.config</th></tr>\n",
       "\t<tr><th scope=col>&lt;int&gt;</th><th scope=col>&lt;chr&gt;</th><th scope=col>&lt;chr&gt;</th><th scope=col>&lt;dbl&gt;</th><th scope=col>&lt;int&gt;</th><th scope=col>&lt;dbl&gt;</th><th scope=col>&lt;chr&gt;</th></tr>\n",
       "</thead>\n",
       "<tbody>\n",
       "\t<tr><td>13</td><td>accuracy</td><td>multiclass</td><td>0.8325</td><td>10</td><td>0.007900813</td><td>Model13</td></tr>\n",
       "</tbody>\n",
       "</table>\n"
      ],
      "text/latex": [
       "A tibble: 1 × 7\n",
       "\\begin{tabular}{lllllll}\n",
       " neighbors & .metric & .estimator & mean & n & std\\_err & .config\\\\\n",
       " <int> & <chr> & <chr> & <dbl> & <int> & <dbl> & <chr>\\\\\n",
       "\\hline\n",
       "\t 13 & accuracy & multiclass & 0.8325 & 10 & 0.007900813 & Model13\\\\\n",
       "\\end{tabular}\n"
      ],
      "text/markdown": [
       "\n",
       "A tibble: 1 × 7\n",
       "\n",
       "| neighbors &lt;int&gt; | .metric &lt;chr&gt; | .estimator &lt;chr&gt; | mean &lt;dbl&gt; | n &lt;int&gt; | std_err &lt;dbl&gt; | .config &lt;chr&gt; |\n",
       "|---|---|---|---|---|---|---|\n",
       "| 13 | accuracy | multiclass | 0.8325 | 10 | 0.007900813 | Model13 |\n",
       "\n"
      ],
      "text/plain": [
       "  neighbors .metric  .estimator mean   n  std_err     .config\n",
       "1 13        accuracy multiclass 0.8325 10 0.007900813 Model13"
      ]
     },
     "metadata": {},
     "output_type": "display_data"
    },
    {
     "data": {
      "text/html": [
       "13"
      ],
      "text/latex": [
       "13"
      ],
      "text/markdown": [
       "13"
      ],
      "text/plain": [
       "[1] 13"
      ]
     },
     "metadata": {},
     "output_type": "display_data"
    }
   ],
   "source": [
    "set.seed(1234)\n",
    "best_accuracy <-  accuracies %>% filter(mean == max(mean)) %>% slice(1)\n",
    "best_accuracy\n",
    "best_k <- best_accuracy %>% pull(neighbors)\n",
    "best_k"
   ]
  },
  {
   "cell_type": "code",
   "execution_count": 49,
   "metadata": {},
   "outputs": [],
   "source": [
    "#pick best K\n",
    "set.seed(1234)\n",
    "mnist_spec <- nearest_neighbor(weight_func = \"rectangular\", neighbors = best_k) %>%\n",
    "      set_engine(\"kknn\") %>%\n",
    "      set_mode(\"classification\")\n",
    "mnist_fit <- workflow() %>%\n",
    "      add_recipe(recipe) %>%\n",
    "      add_model(mnist_spec) %>%\n",
    "      fit(data = red_wine_training)\n"
   ]
  },
  {
   "cell_type": "code",
   "execution_count": 50,
   "metadata": {},
   "outputs": [
    {
     "data": {
      "text/html": [
       "<table>\n",
       "<caption>A tibble: 399 × 13</caption>\n",
       "<thead>\n",
       "\t<tr><th scope=col>.pred_class</th><th scope=col>fixed.acidity</th><th scope=col>volatile.acidity</th><th scope=col>citric.acid</th><th scope=col>residual.sugar</th><th scope=col>chlorides</th><th scope=col>free.sulfur.dioxide</th><th scope=col>total.sulfur.dioxide</th><th scope=col>density</th><th scope=col>pH</th><th scope=col>sulphates</th><th scope=col>alcohol</th><th scope=col>quality</th></tr>\n",
       "\t<tr><th scope=col>&lt;fct&gt;</th><th scope=col>&lt;dbl&gt;</th><th scope=col>&lt;dbl&gt;</th><th scope=col>&lt;dbl&gt;</th><th scope=col>&lt;dbl&gt;</th><th scope=col>&lt;dbl&gt;</th><th scope=col>&lt;dbl&gt;</th><th scope=col>&lt;dbl&gt;</th><th scope=col>&lt;dbl&gt;</th><th scope=col>&lt;dbl&gt;</th><th scope=col>&lt;dbl&gt;</th><th scope=col>&lt;dbl&gt;</th><th scope=col>&lt;fct&gt;</th></tr>\n",
       "</thead>\n",
       "<tbody>\n",
       "\t<tr><td>Satisfactory</td><td>7.5</td><td>0.500</td><td>0.36</td><td>6.1</td><td>0.071</td><td>17</td><td>102</td><td>0.9978</td><td>3.35</td><td>0.80</td><td>10.5</td><td>Satisfactory</td></tr>\n",
       "\t<tr><td>Satisfactory</td><td>5.6</td><td>0.615</td><td>0.00</td><td>1.6</td><td>0.089</td><td>16</td><td> 59</td><td>0.9943</td><td>3.58</td><td>0.52</td><td> 9.9</td><td>Satisfactory</td></tr>\n",
       "\t<tr><td>Satisfactory</td><td>8.9</td><td>0.620</td><td>0.18</td><td>3.8</td><td>0.176</td><td>52</td><td>145</td><td>0.9986</td><td>3.16</td><td>0.88</td><td> 9.2</td><td>Satisfactory</td></tr>\n",
       "\t<tr><td>⋮</td><td>⋮</td><td>⋮</td><td>⋮</td><td>⋮</td><td>⋮</td><td>⋮</td><td>⋮</td><td>⋮</td><td>⋮</td><td>⋮</td><td>⋮</td><td>⋮</td></tr>\n",
       "\t<tr><td>Satisfactory</td><td>6.8</td><td>0.67</td><td>0.15</td><td>1.8</td><td>0.118</td><td>13</td><td>20</td><td>0.99540</td><td>3.42</td><td>0.67</td><td>11.3</td><td>Satisfactory</td></tr>\n",
       "\t<tr><td>Good        </td><td>6.7</td><td>0.32</td><td>0.44</td><td>2.4</td><td>0.061</td><td>24</td><td>34</td><td>0.99484</td><td>3.29</td><td>0.80</td><td>11.6</td><td>Good        </td></tr>\n",
       "\t<tr><td>Satisfactory</td><td>6.0</td><td>0.31</td><td>0.47</td><td>3.6</td><td>0.067</td><td>18</td><td>42</td><td>0.99549</td><td>3.39</td><td>0.66</td><td>11.0</td><td>Satisfactory</td></tr>\n",
       "</tbody>\n",
       "</table>\n"
      ],
      "text/latex": [
       "A tibble: 399 × 13\n",
       "\\begin{tabular}{lllllllllllll}\n",
       " .pred\\_class & fixed.acidity & volatile.acidity & citric.acid & residual.sugar & chlorides & free.sulfur.dioxide & total.sulfur.dioxide & density & pH & sulphates & alcohol & quality\\\\\n",
       " <fct> & <dbl> & <dbl> & <dbl> & <dbl> & <dbl> & <dbl> & <dbl> & <dbl> & <dbl> & <dbl> & <dbl> & <fct>\\\\\n",
       "\\hline\n",
       "\t Satisfactory & 7.5 & 0.500 & 0.36 & 6.1 & 0.071 & 17 & 102 & 0.9978 & 3.35 & 0.80 & 10.5 & Satisfactory\\\\\n",
       "\t Satisfactory & 5.6 & 0.615 & 0.00 & 1.6 & 0.089 & 16 &  59 & 0.9943 & 3.58 & 0.52 &  9.9 & Satisfactory\\\\\n",
       "\t Satisfactory & 8.9 & 0.620 & 0.18 & 3.8 & 0.176 & 52 & 145 & 0.9986 & 3.16 & 0.88 &  9.2 & Satisfactory\\\\\n",
       "\t ⋮ & ⋮ & ⋮ & ⋮ & ⋮ & ⋮ & ⋮ & ⋮ & ⋮ & ⋮ & ⋮ & ⋮ & ⋮\\\\\n",
       "\t Satisfactory & 6.8 & 0.67 & 0.15 & 1.8 & 0.118 & 13 & 20 & 0.99540 & 3.42 & 0.67 & 11.3 & Satisfactory\\\\\n",
       "\t Good         & 6.7 & 0.32 & 0.44 & 2.4 & 0.061 & 24 & 34 & 0.99484 & 3.29 & 0.80 & 11.6 & Good        \\\\\n",
       "\t Satisfactory & 6.0 & 0.31 & 0.47 & 3.6 & 0.067 & 18 & 42 & 0.99549 & 3.39 & 0.66 & 11.0 & Satisfactory\\\\\n",
       "\\end{tabular}\n"
      ],
      "text/markdown": [
       "\n",
       "A tibble: 399 × 13\n",
       "\n",
       "| .pred_class &lt;fct&gt; | fixed.acidity &lt;dbl&gt; | volatile.acidity &lt;dbl&gt; | citric.acid &lt;dbl&gt; | residual.sugar &lt;dbl&gt; | chlorides &lt;dbl&gt; | free.sulfur.dioxide &lt;dbl&gt; | total.sulfur.dioxide &lt;dbl&gt; | density &lt;dbl&gt; | pH &lt;dbl&gt; | sulphates &lt;dbl&gt; | alcohol &lt;dbl&gt; | quality &lt;fct&gt; |\n",
       "|---|---|---|---|---|---|---|---|---|---|---|---|---|\n",
       "| Satisfactory | 7.5 | 0.500 | 0.36 | 6.1 | 0.071 | 17 | 102 | 0.9978 | 3.35 | 0.80 | 10.5 | Satisfactory |\n",
       "| Satisfactory | 5.6 | 0.615 | 0.00 | 1.6 | 0.089 | 16 |  59 | 0.9943 | 3.58 | 0.52 |  9.9 | Satisfactory |\n",
       "| Satisfactory | 8.9 | 0.620 | 0.18 | 3.8 | 0.176 | 52 | 145 | 0.9986 | 3.16 | 0.88 |  9.2 | Satisfactory |\n",
       "| ⋮ | ⋮ | ⋮ | ⋮ | ⋮ | ⋮ | ⋮ | ⋮ | ⋮ | ⋮ | ⋮ | ⋮ | ⋮ |\n",
       "| Satisfactory | 6.8 | 0.67 | 0.15 | 1.8 | 0.118 | 13 | 20 | 0.99540 | 3.42 | 0.67 | 11.3 | Satisfactory |\n",
       "| Good         | 6.7 | 0.32 | 0.44 | 2.4 | 0.061 | 24 | 34 | 0.99484 | 3.29 | 0.80 | 11.6 | Good         |\n",
       "| Satisfactory | 6.0 | 0.31 | 0.47 | 3.6 | 0.067 | 18 | 42 | 0.99549 | 3.39 | 0.66 | 11.0 | Satisfactory |\n",
       "\n"
      ],
      "text/plain": [
       "    .pred_class  fixed.acidity volatile.acidity citric.acid residual.sugar\n",
       "1   Satisfactory 7.5           0.500            0.36        6.1           \n",
       "2   Satisfactory 5.6           0.615            0.00        1.6           \n",
       "3   Satisfactory 8.9           0.620            0.18        3.8           \n",
       "⋮   ⋮            ⋮             ⋮                ⋮           ⋮             \n",
       "397 Satisfactory 6.8           0.67             0.15        1.8           \n",
       "398 Good         6.7           0.32             0.44        2.4           \n",
       "399 Satisfactory 6.0           0.31             0.47        3.6           \n",
       "    chlorides free.sulfur.dioxide total.sulfur.dioxide density pH   sulphates\n",
       "1   0.071     17                  102                  0.9978  3.35 0.80     \n",
       "2   0.089     16                   59                  0.9943  3.58 0.52     \n",
       "3   0.176     52                  145                  0.9986  3.16 0.88     \n",
       "⋮   ⋮         ⋮                   ⋮                    ⋮       ⋮    ⋮        \n",
       "397 0.118     13                  20                   0.99540 3.42 0.67     \n",
       "398 0.061     24                  34                   0.99484 3.29 0.80     \n",
       "399 0.067     18                  42                   0.99549 3.39 0.66     \n",
       "    alcohol quality     \n",
       "1   10.5    Satisfactory\n",
       "2    9.9    Satisfactory\n",
       "3    9.2    Satisfactory\n",
       "⋮   ⋮       ⋮           \n",
       "397 11.3    Satisfactory\n",
       "398 11.6    Good        \n",
       "399 11.0    Satisfactory"
      ]
     },
     "metadata": {},
     "output_type": "display_data"
    },
    {
     "data": {
      "text/html": [
       "<table>\n",
       "<caption>A tibble: 2 × 3</caption>\n",
       "<thead>\n",
       "\t<tr><th scope=col>.metric</th><th scope=col>.estimator</th><th scope=col>.estimate</th></tr>\n",
       "\t<tr><th scope=col>&lt;chr&gt;</th><th scope=col>&lt;chr&gt;</th><th scope=col>&lt;dbl&gt;</th></tr>\n",
       "</thead>\n",
       "<tbody>\n",
       "\t<tr><td>accuracy</td><td>multiclass</td><td>0.8471178</td></tr>\n",
       "\t<tr><td>kap     </td><td>multiclass</td><td>0.3557702</td></tr>\n",
       "</tbody>\n",
       "</table>\n"
      ],
      "text/latex": [
       "A tibble: 2 × 3\n",
       "\\begin{tabular}{lll}\n",
       " .metric & .estimator & .estimate\\\\\n",
       " <chr> & <chr> & <dbl>\\\\\n",
       "\\hline\n",
       "\t accuracy & multiclass & 0.8471178\\\\\n",
       "\t kap      & multiclass & 0.3557702\\\\\n",
       "\\end{tabular}\n"
      ],
      "text/markdown": [
       "\n",
       "A tibble: 2 × 3\n",
       "\n",
       "| .metric &lt;chr&gt; | .estimator &lt;chr&gt; | .estimate &lt;dbl&gt; |\n",
       "|---|---|---|\n",
       "| accuracy | multiclass | 0.8471178 |\n",
       "| kap      | multiclass | 0.3557702 |\n",
       "\n"
      ],
      "text/plain": [
       "  .metric  .estimator .estimate\n",
       "1 accuracy multiclass 0.8471178\n",
       "2 kap      multiclass 0.3557702"
      ]
     },
     "metadata": {},
     "output_type": "display_data"
    },
    {
     "data": {
      "text/plain": [
       "              Truth\n",
       "Prediction     Bad Good Satisfactory\n",
       "  Bad            0    0            0\n",
       "  Good           1   22           14\n",
       "  Satisfactory  15   31          316"
      ]
     },
     "metadata": {},
     "output_type": "display_data"
    }
   ],
   "source": [
    "set.seed(1234)\n",
    "mnist_predictions <- predict(mnist_fit, red_wine_testing) %>%\n",
    "                   bind_cols(red_wine_testing) \n",
    "mnist_predictions\n",
    "\n",
    "mnist_metrics <- mnist_predictions %>%\n",
    "        metrics(truth = quality, estimate = .pred_class) \n",
    "mnist_metrics\n",
    "\n",
    "mnist_conf_mat <- mnist_predictions %>%\n",
    "        conf_mat(truth = quality, estimate = .pred_class) \n",
    "mnist_conf_mat"
   ]
  },
  {
   "cell_type": "code",
   "execution_count": null,
   "metadata": {},
   "outputs": [],
   "source": []
  },
  {
   "cell_type": "markdown",
   "metadata": {},
   "source": [
    "DISCUSSION\n",
    "\n",
    "Using the cross-validation method, we found that the k-value of 13 computed a classifier with the highest accuracy, although accuracies of k-values were not significantly differnt than k = 1 as shown in the graph. We also found that our classifier was 84.7% accurate on the test data compared to 83.3% on the training data. It predicted 0 bad quality wines, 22 good quality wines and 316 statisfactory quality wines accurately, compared to predicting 16 bad quality wines, 31 good quality wines and 14 satisfactory quality wines inaccurately.\n",
    "\n",
    "We expected our model to have a bit higher accuracy than 84.7% as we used 11 chemcial properties as predictors in our classifer and scaled and centered them so that each variable had an equal effect on the classifier by making each predictor's mean equal to 0 and standard deviation equal to 1. We also tuned our classifier by performing cross-validation to choose a k-value that would help us maximize accuracy along with other measures taken. \n",
    "\n",
    "Our model helped classify quality of red wine depending on 11 factors: fixed quality, volatile acidity, citric acid, residual sugar, chlorides, free sulfur dioxide, total sulfur dioxide, pH, sulfates and alcohol. a wine label can use the model we have created to see which qualities and their quantities lead to a wine of a good quality and use that information to change their wine production. The wine labels can modify their product by changing its chemical properties accordingly to increase their sales as well as receive positive feedback from wine critics and customers which could help the label establish itself as a reputable brand. "
   ]
  },
  {
   "cell_type": "code",
   "execution_count": null,
   "metadata": {},
   "outputs": [],
   "source": []
  }
 ],
 "metadata": {
  "kernelspec": {
   "display_name": "R",
   "language": "R",
   "name": "ir"
  },
  "language_info": {
   "codemirror_mode": "r",
   "file_extension": ".r",
   "mimetype": "text/x-r-source",
   "name": "R",
   "pygments_lexer": "r",
   "version": "4.0.0"
  }
 },
 "nbformat": 4,
 "nbformat_minor": 4
}
